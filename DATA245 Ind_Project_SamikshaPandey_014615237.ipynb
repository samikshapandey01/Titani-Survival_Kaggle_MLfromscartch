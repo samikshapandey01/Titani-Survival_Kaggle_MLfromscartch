{
 "cells": [
  {
   "cell_type": "markdown",
   "metadata": {},
   "source": [
    "# Individual Project Code"
   ]
  },
  {
   "cell_type": "code",
   "execution_count": 2,
   "metadata": {},
   "outputs": [],
   "source": [
    "#Import all the required libraries.\n",
    "import pandas as pd\n",
    "import matplotlib.pyplot as plt\n",
    "import seaborn as sns\n",
    "import numpy as np\n",
    "np.random.seed(2020) #setting random seed "
   ]
  },
  {
   "cell_type": "code",
   "execution_count": 3,
   "metadata": {},
   "outputs": [],
   "source": [
    "df_titanic_train=pd.read_csv('train.csv') #Train Dataset"
   ]
  },
  {
   "cell_type": "code",
   "execution_count": 4,
   "metadata": {},
   "outputs": [
    {
     "data": {
      "text/html": [
       "<div>\n",
       "<style scoped>\n",
       "    .dataframe tbody tr th:only-of-type {\n",
       "        vertical-align: middle;\n",
       "    }\n",
       "\n",
       "    .dataframe tbody tr th {\n",
       "        vertical-align: top;\n",
       "    }\n",
       "\n",
       "    .dataframe thead th {\n",
       "        text-align: right;\n",
       "    }\n",
       "</style>\n",
       "<table border=\"1\" class=\"dataframe\">\n",
       "  <thead>\n",
       "    <tr style=\"text-align: right;\">\n",
       "      <th></th>\n",
       "      <th>PassengerId</th>\n",
       "      <th>Survived</th>\n",
       "      <th>Pclass</th>\n",
       "      <th>Name</th>\n",
       "      <th>Sex</th>\n",
       "      <th>Age</th>\n",
       "      <th>SibSp</th>\n",
       "      <th>Parch</th>\n",
       "      <th>Ticket</th>\n",
       "      <th>Fare</th>\n",
       "      <th>Cabin</th>\n",
       "      <th>Embarked</th>\n",
       "    </tr>\n",
       "  </thead>\n",
       "  <tbody>\n",
       "    <tr>\n",
       "      <th>0</th>\n",
       "      <td>1</td>\n",
       "      <td>0</td>\n",
       "      <td>3</td>\n",
       "      <td>Braund, Mr. Owen Harris</td>\n",
       "      <td>male</td>\n",
       "      <td>22.0</td>\n",
       "      <td>1</td>\n",
       "      <td>0</td>\n",
       "      <td>A/5 21171</td>\n",
       "      <td>7.2500</td>\n",
       "      <td>NaN</td>\n",
       "      <td>S</td>\n",
       "    </tr>\n",
       "    <tr>\n",
       "      <th>1</th>\n",
       "      <td>2</td>\n",
       "      <td>1</td>\n",
       "      <td>1</td>\n",
       "      <td>Cumings, Mrs. John Bradley (Florence Briggs Th...</td>\n",
       "      <td>female</td>\n",
       "      <td>38.0</td>\n",
       "      <td>1</td>\n",
       "      <td>0</td>\n",
       "      <td>PC 17599</td>\n",
       "      <td>71.2833</td>\n",
       "      <td>C85</td>\n",
       "      <td>C</td>\n",
       "    </tr>\n",
       "    <tr>\n",
       "      <th>2</th>\n",
       "      <td>3</td>\n",
       "      <td>1</td>\n",
       "      <td>3</td>\n",
       "      <td>Heikkinen, Miss. Laina</td>\n",
       "      <td>female</td>\n",
       "      <td>26.0</td>\n",
       "      <td>0</td>\n",
       "      <td>0</td>\n",
       "      <td>STON/O2. 3101282</td>\n",
       "      <td>7.9250</td>\n",
       "      <td>NaN</td>\n",
       "      <td>S</td>\n",
       "    </tr>\n",
       "    <tr>\n",
       "      <th>3</th>\n",
       "      <td>4</td>\n",
       "      <td>1</td>\n",
       "      <td>1</td>\n",
       "      <td>Futrelle, Mrs. Jacques Heath (Lily May Peel)</td>\n",
       "      <td>female</td>\n",
       "      <td>35.0</td>\n",
       "      <td>1</td>\n",
       "      <td>0</td>\n",
       "      <td>113803</td>\n",
       "      <td>53.1000</td>\n",
       "      <td>C123</td>\n",
       "      <td>S</td>\n",
       "    </tr>\n",
       "    <tr>\n",
       "      <th>4</th>\n",
       "      <td>5</td>\n",
       "      <td>0</td>\n",
       "      <td>3</td>\n",
       "      <td>Allen, Mr. William Henry</td>\n",
       "      <td>male</td>\n",
       "      <td>35.0</td>\n",
       "      <td>0</td>\n",
       "      <td>0</td>\n",
       "      <td>373450</td>\n",
       "      <td>8.0500</td>\n",
       "      <td>NaN</td>\n",
       "      <td>S</td>\n",
       "    </tr>\n",
       "  </tbody>\n",
       "</table>\n",
       "</div>"
      ],
      "text/plain": [
       "   PassengerId  Survived  Pclass  \\\n",
       "0            1         0       3   \n",
       "1            2         1       1   \n",
       "2            3         1       3   \n",
       "3            4         1       1   \n",
       "4            5         0       3   \n",
       "\n",
       "                                                Name     Sex   Age  SibSp  \\\n",
       "0                            Braund, Mr. Owen Harris    male  22.0      1   \n",
       "1  Cumings, Mrs. John Bradley (Florence Briggs Th...  female  38.0      1   \n",
       "2                             Heikkinen, Miss. Laina  female  26.0      0   \n",
       "3       Futrelle, Mrs. Jacques Heath (Lily May Peel)  female  35.0      1   \n",
       "4                           Allen, Mr. William Henry    male  35.0      0   \n",
       "\n",
       "   Parch            Ticket     Fare Cabin Embarked  \n",
       "0      0         A/5 21171   7.2500   NaN        S  \n",
       "1      0          PC 17599  71.2833   C85        C  \n",
       "2      0  STON/O2. 3101282   7.9250   NaN        S  \n",
       "3      0            113803  53.1000  C123        S  \n",
       "4      0            373450   8.0500   NaN        S  "
      ]
     },
     "execution_count": 4,
     "metadata": {},
     "output_type": "execute_result"
    }
   ],
   "source": [
    "df_titanic_train.head()"
   ]
  },
  {
   "cell_type": "markdown",
   "metadata": {},
   "source": [
    "### Data Understanding and Preparation \n",
    "#### Data Exploration "
   ]
  },
  {
   "cell_type": "markdown",
   "metadata": {},
   "source": [
    "#### Dataset has below set of Categorical and Continuous Features based on Raw training dataset\n",
    "\n",
    "Continuous are:\n",
    "1. Survived (binary)\n",
    "2. Pclass (Three numerical categories)\n",
    "3. PassengerID \n",
    "6. Age\n",
    "7. SibSp\n",
    "8. parch\n",
    "9. fare\n",
    "\n",
    "Continuous Features are: \n",
    "1. PassengerID\n",
    "2. Cabin\n",
    "3. Embarked\n",
    "4. Name\n",
    "5. Ticket (Mixed type)"
   ]
  },
  {
   "cell_type": "code",
   "execution_count": 5,
   "metadata": {},
   "outputs": [
    {
     "name": "stdout",
     "output_type": "stream",
     "text": [
      "<class 'pandas.core.frame.DataFrame'>\n",
      "RangeIndex: 891 entries, 0 to 890\n",
      "Data columns (total 12 columns):\n",
      " #   Column       Non-Null Count  Dtype  \n",
      "---  ------       --------------  -----  \n",
      " 0   PassengerId  891 non-null    int64  \n",
      " 1   Survived     891 non-null    int64  \n",
      " 2   Pclass       891 non-null    int64  \n",
      " 3   Name         891 non-null    object \n",
      " 4   Sex          891 non-null    object \n",
      " 5   Age          714 non-null    float64\n",
      " 6   SibSp        891 non-null    int64  \n",
      " 7   Parch        891 non-null    int64  \n",
      " 8   Ticket       891 non-null    object \n",
      " 9   Fare         891 non-null    float64\n",
      " 10  Cabin        204 non-null    object \n",
      " 11  Embarked     889 non-null    object \n",
      "dtypes: float64(2), int64(5), object(5)\n",
      "memory usage: 83.7+ KB\n"
     ]
    }
   ],
   "source": [
    "df_titanic_train.info()"
   ]
  },
  {
   "cell_type": "markdown",
   "metadata": {},
   "source": [
    "### Basic Descriptive Analysis"
   ]
  },
  {
   "cell_type": "markdown",
   "metadata": {},
   "source": [
    "#### Continuous Features (Data Quality Report and Visualization)"
   ]
  },
  {
   "cell_type": "code",
   "execution_count": 6,
   "metadata": {},
   "outputs": [],
   "source": [
    "#Code of adding cardinality, Median and missing percentage to data quality report of Continuous features. \n",
    "#ALso adding visualizations in the same function\n",
    "\n",
    "def cont_data_quality_report(df,viz=True):\n",
    "    df_desc=df.describe()\n",
    "    cols=df_desc.columns\n",
    "    med_ls=[]\n",
    "    miss_ls=[]\n",
    "    card_ls=[]\n",
    "    bar_ls=[]\n",
    "    for c in cols:\n",
    "        median=np.median(df[c])\n",
    "        miss_perc=((df[c].isnull().sum())*100)/len(df)\n",
    "        card=df[c].nunique()\n",
    "        med_ls.append(median)\n",
    "        miss_ls.append((miss_perc))\n",
    "        card_ls.append(card)\n",
    "        if card < 10:\n",
    "            bar_ls.append(c)\n",
    "    Figure_Row_Count=len(df_desc)\n",
    "    subplot_cnt=1\n",
    "    colCnt=3 #Column Count is 3\n",
    "    print(\"Visualizations for Continuous Feature\")\n",
    "    fig = plt.figure(figsize=(15,30))\n",
    "    for c in df_desc:\n",
    "        plt.subplot(Figure_Row_Count, colCnt, subplot_cnt)\n",
    "        if c in bar_ls:\n",
    "            sns.countplot(x=c, data=df, color=\"c\")\n",
    "        else:\n",
    "            sns.distplot(df[c],color='y')\n",
    "        subplot_cnt+=1\n",
    "    plt.show()\n",
    "\n",
    "    df2=pd.DataFrame([med_ls,miss_ls,card_ls],index=['Median','% Miss','Cardinality'],columns=cols)\n",
    "    new_desc=df_desc.append(df2)\n",
    "    print(\"Data Quality Report of Continuous Feature\")\n",
    "    return new_desc"
   ]
  },
  {
   "cell_type": "code",
   "execution_count": 7,
   "metadata": {},
   "outputs": [
    {
     "name": "stdout",
     "output_type": "stream",
     "text": [
      "Visualizations for Continuous Feature\n"
     ]
    },
    {
     "data": {
      "image/png": "[encoded data removed]",
      "text/plain": [
       "<Figure size 1080x2160 with 7 Axes>"
      ]
     },
     "metadata": {
      "needs_background": "light"
     },
     "output_type": "display_data"
    },
    {
     "name": "stdout",
     "output_type": "stream",
     "text": [
      "Data Quality Report of Continuous Feature\n"
     ]
    },
    {
     "data": {
      "text/html": [
       "<div>\n",
       "<style scoped>\n",
       "    .dataframe tbody tr th:only-of-type {\n",
       "        vertical-align: middle;\n",
       "    }\n",
       "\n",
       "    .dataframe tbody tr th {\n",
       "        vertical-align: top;\n",
       "    }\n",
       "\n",
       "    .dataframe thead th {\n",
       "        text-align: right;\n",
       "    }\n",
       "</style>\n",
       "<table border=\"1\" class=\"dataframe\">\n",
       "  <thead>\n",
       "    <tr style=\"text-align: right;\">\n",
       "      <th></th>\n",
       "      <th>PassengerId</th>\n",
       "      <th>Survived</th>\n",
       "      <th>Pclass</th>\n",
       "      <th>Age</th>\n",
       "      <th>SibSp</th>\n",
       "      <th>Parch</th>\n",
       "      <th>Fare</th>\n",
       "    </tr>\n",
       "  </thead>\n",
       "  <tbody>\n",
       "    <tr>\n",
       "      <th>count</th>\n",
       "      <td>891.000000</td>\n",
       "      <td>891.000000</td>\n",
       "      <td>891.000000</td>\n",
       "      <td>714.000000</td>\n",
       "      <td>891.000000</td>\n",
       "      <td>891.000000</td>\n",
       "      <td>891.000000</td>\n",
       "    </tr>\n",
       "    <tr>\n",
       "      <th>mean</th>\n",
       "      <td>446.000000</td>\n",
       "      <td>0.383838</td>\n",
       "      <td>2.308642</td>\n",
       "      <td>29.699118</td>\n",
       "      <td>0.523008</td>\n",
       "      <td>0.381594</td>\n",
       "      <td>32.204208</td>\n",
       "    </tr>\n",
       "    <tr>\n",
       "      <th>std</th>\n",
       "      <td>257.353842</td>\n",
       "      <td>0.486592</td>\n",
       "      <td>0.836071</td>\n",
       "      <td>14.526497</td>\n",
       "      <td>1.102743</td>\n",
       "      <td>0.806057</td>\n",
       "      <td>49.693429</td>\n",
       "    </tr>\n",
       "    <tr>\n",
       "      <th>min</th>\n",
       "      <td>1.000000</td>\n",
       "      <td>0.000000</td>\n",
       "      <td>1.000000</td>\n",
       "      <td>0.420000</td>\n",
       "      <td>0.000000</td>\n",
       "      <td>0.000000</td>\n",
       "      <td>0.000000</td>\n",
       "    </tr>\n",
       "    <tr>\n",
       "      <th>25%</th>\n",
       "      <td>223.500000</td>\n",
       "      <td>0.000000</td>\n",
       "      <td>2.000000</td>\n",
       "      <td>20.125000</td>\n",
       "      <td>0.000000</td>\n",
       "      <td>0.000000</td>\n",
       "      <td>7.910400</td>\n",
       "    </tr>\n",
       "    <tr>\n",
       "      <th>50%</th>\n",
       "      <td>446.000000</td>\n",
       "      <td>0.000000</td>\n",
       "      <td>3.000000</td>\n",
       "      <td>28.000000</td>\n",
       "      <td>0.000000</td>\n",
       "      <td>0.000000</td>\n",
       "      <td>14.454200</td>\n",
       "    </tr>\n",
       "    <tr>\n",
       "      <th>75%</th>\n",
       "      <td>668.500000</td>\n",
       "      <td>1.000000</td>\n",
       "      <td>3.000000</td>\n",
       "      <td>38.000000</td>\n",
       "      <td>1.000000</td>\n",
       "      <td>0.000000</td>\n",
       "      <td>31.000000</td>\n",
       "    </tr>\n",
       "    <tr>\n",
       "      <th>max</th>\n",
       "      <td>891.000000</td>\n",
       "      <td>1.000000</td>\n",
       "      <td>3.000000</td>\n",
       "      <td>80.000000</td>\n",
       "      <td>8.000000</td>\n",
       "      <td>6.000000</td>\n",
       "      <td>512.329200</td>\n",
       "    </tr>\n",
       "    <tr>\n",
       "      <th>Median</th>\n",
       "      <td>446.000000</td>\n",
       "      <td>0.000000</td>\n",
       "      <td>3.000000</td>\n",
       "      <td>NaN</td>\n",
       "      <td>0.000000</td>\n",
       "      <td>0.000000</td>\n",
       "      <td>14.454200</td>\n",
       "    </tr>\n",
       "    <tr>\n",
       "      <th>% Miss</th>\n",
       "      <td>0.000000</td>\n",
       "      <td>0.000000</td>\n",
       "      <td>0.000000</td>\n",
       "      <td>19.865320</td>\n",
       "      <td>0.000000</td>\n",
       "      <td>0.000000</td>\n",
       "      <td>0.000000</td>\n",
       "    </tr>\n",
       "    <tr>\n",
       "      <th>Cardinality</th>\n",
       "      <td>891.000000</td>\n",
       "      <td>2.000000</td>\n",
       "      <td>3.000000</td>\n",
       "      <td>88.000000</td>\n",
       "      <td>7.000000</td>\n",
       "      <td>7.000000</td>\n",
       "      <td>248.000000</td>\n",
       "    </tr>\n",
       "  </tbody>\n",
       "</table>\n",
       "</div>"
      ],
      "text/plain": [
       "             PassengerId    Survived      Pclass         Age       SibSp  \\\n",
       "count         891.000000  891.000000  891.000000  714.000000  891.000000   \n",
       "mean          446.000000    0.383838    2.308642   29.699118    0.523008   \n",
       "std           257.353842    0.486592    0.836071   14.526497    1.102743   \n",
       "min             1.000000    0.000000    1.000000    0.420000    0.000000   \n",
       "25%           223.500000    0.000000    2.000000   20.125000    0.000000   \n",
       "50%           446.000000    0.000000    3.000000   28.000000    0.000000   \n",
       "75%           668.500000    1.000000    3.000000   38.000000    1.000000   \n",
       "max           891.000000    1.000000    3.000000   80.000000    8.000000   \n",
       "Median        446.000000    0.000000    3.000000         NaN    0.000000   \n",
       "% Miss          0.000000    0.000000    0.000000   19.865320    0.000000   \n",
       "Cardinality   891.000000    2.000000    3.000000   88.000000    7.000000   \n",
       "\n",
       "                  Parch        Fare  \n",
       "count        891.000000  891.000000  \n",
       "mean           0.381594   32.204208  \n",
       "std            0.806057   49.693429  \n",
       "min            0.000000    0.000000  \n",
       "25%            0.000000    7.910400  \n",
       "50%            0.000000   14.454200  \n",
       "75%            0.000000   31.000000  \n",
       "max            6.000000  512.329200  \n",
       "Median         0.000000   14.454200  \n",
       "% Miss         0.000000    0.000000  \n",
       "Cardinality    7.000000  248.000000  "
      ]
     },
     "execution_count": 7,
     "metadata": {},
     "output_type": "execute_result"
    }
   ],
   "source": [
    "cont_data_quality_report(df_titanic_train)"
   ]
  },
  {
   "cell_type": "markdown",
   "metadata": {},
   "source": [
    "#### Categorical Features based on Initial Data\n",
    "\n",
    "1. Sex \n",
    "2. Cabin(Mixed and distinct text values , not actually categorical)\n",
    "3. Embarked\n",
    "4. Name(Different names not actually categorical)\n",
    "5. Ticket(Data Type is mixed)\n"
   ]
  },
  {
   "cell_type": "code",
   "execution_count": 8,
   "metadata": {},
   "outputs": [],
   "source": [
    "#Code for data quality report for Categorical features\n",
    "def cat_data_quality_report(df):\n",
    "    df_desc=df.describe()\n",
    "    con_columns=df_desc.columns\n",
    "    df_columns=df.columns\n",
    "    cat_columns=[x for x in df_columns if x not in con_columns]\n",
    "    count_ls=[]\n",
    "    miss_ls=[]\n",
    "    card_ls=[]\n",
    "    mode_ls=[]\n",
    "    mode_freq_ls=[]\n",
    "    mode_perc_ls=[]\n",
    "    sec_mode_ls=[]\n",
    "    sec_mode_freq_ls=[]\n",
    "    sec_mode_perc_ls=[]\n",
    "    for c in cat_columns:\n",
    "        count=len(df)\n",
    "        miss_perc=((df[c].isnull().sum())*100)/len(df)\n",
    "        card=df[c].nunique()\n",
    "        mod=(df[c].value_counts()).head(1).index[0]\n",
    "        mod_freq=max(df[c].value_counts())\n",
    "        mod_perc=(mod_freq*100)/(count-(df[c].isnull().sum()))\n",
    "        sec_mod=(df[c].value_counts()).head(2).index[1]\n",
    "        sec_mod_freq=(df[c].value_counts())[1]\n",
    "        sec_mod_perc=(sec_mod_freq*100)/(count-(df[c].isnull().sum()))\n",
    "        \n",
    "        \n",
    "        count_ls.append(count)\n",
    "        miss_ls.append((miss_perc))\n",
    "        card_ls.append(card)\n",
    "        mode_ls.append(mod)\n",
    "        mode_freq_ls.append(mod_freq)\n",
    "        mode_perc_ls.append(mod_perc)\n",
    "        sec_mode_ls.append(sec_mod)\n",
    "        sec_mode_freq_ls.append(sec_mod_freq)\n",
    "        sec_mode_perc_ls.append(sec_mod_perc)\n",
    "        \n",
    "    Figure_Row_Count=len(df_desc)\n",
    "    subplot_cnt=1\n",
    "    colCnt=3 #Column Count is 3\n",
    "    print(\"Visualizations for Categorical Feature\")\n",
    "    fig = plt.figure(figsize=(15,30))\n",
    "    cat_plot_col=[c for c in cat_columns if c not in ['Ticket','Name','Cabin']]\n",
    "    for c in cat_plot_col:\n",
    "        plt.subplot(Figure_Row_Count, colCnt, subplot_cnt)\n",
    "        \n",
    "        sns.countplot(x=c, data=df, color=\"c\")\n",
    "        subplot_cnt+=1\n",
    "    plt.show()\n",
    "    \n",
    "    df_cat=pd.DataFrame([count_ls,miss_ls,card_ls,mode_ls,mode_freq_ls,mode_perc_ls,sec_mode_ls,sec_mode_freq_ls,sec_mode_perc_ls],\n",
    "                        index=['Count','% Miss','Cardinality','Mode','Mode Freq.','Mode %','2nd Mode','2nd Mode Freq.','2nd Mode %'],columns=cat_columns)\n",
    "    return df_cat"
   ]
  },
  {
   "cell_type": "code",
   "execution_count": 9,
   "metadata": {},
   "outputs": [
    {
     "name": "stdout",
     "output_type": "stream",
     "text": [
      "Visualizations for Categorical Feature\n"
     ]
    },
    {
     "data": {
      "image/png": "[encoded data removed]",
      "text/plain": [
       "<Figure size 1080x2160 with 2 Axes>"
      ]
     },
     "metadata": {
      "needs_background": "light"
     },
     "output_type": "display_data"
    },
    {
     "data": {
      "text/html": [
       "<div>\n",
       "<style scoped>\n",
       "    .dataframe tbody tr th:only-of-type {\n",
       "        vertical-align: middle;\n",
       "    }\n",
       "\n",
       "    .dataframe tbody tr th {\n",
       "        vertical-align: top;\n",
       "    }\n",
       "\n",
       "    .dataframe thead th {\n",
       "        text-align: right;\n",
       "    }\n",
       "</style>\n",
       "<table border=\"1\" class=\"dataframe\">\n",
       "  <thead>\n",
       "    <tr style=\"text-align: right;\">\n",
       "      <th></th>\n",
       "      <th>Name</th>\n",
       "      <th>Sex</th>\n",
       "      <th>Ticket</th>\n",
       "      <th>Cabin</th>\n",
       "      <th>Embarked</th>\n",
       "    </tr>\n",
       "  </thead>\n",
       "  <tbody>\n",
       "    <tr>\n",
       "      <th>Count</th>\n",
       "      <td>891</td>\n",
       "      <td>891</td>\n",
       "      <td>891</td>\n",
       "      <td>891</td>\n",
       "      <td>891</td>\n",
       "    </tr>\n",
       "    <tr>\n",
       "      <th>% Miss</th>\n",
       "      <td>0</td>\n",
       "      <td>0</td>\n",
       "      <td>0</td>\n",
       "      <td>77.1044</td>\n",
       "      <td>0.224467</td>\n",
       "    </tr>\n",
       "    <tr>\n",
       "      <th>Cardinality</th>\n",
       "      <td>891</td>\n",
       "      <td>2</td>\n",
       "      <td>681</td>\n",
       "      <td>147</td>\n",
       "      <td>3</td>\n",
       "    </tr>\n",
       "    <tr>\n",
       "      <th>Mode</th>\n",
       "      <td>Douglas, Mr. Walter Donald</td>\n",
       "      <td>male</td>\n",
       "      <td>1601</td>\n",
       "      <td>B96 B98</td>\n",
       "      <td>S</td>\n",
       "    </tr>\n",
       "    <tr>\n",
       "      <th>Mode Freq.</th>\n",
       "      <td>1</td>\n",
       "      <td>577</td>\n",
       "      <td>7</td>\n",
       "      <td>4</td>\n",
       "      <td>644</td>\n",
       "    </tr>\n",
       "    <tr>\n",
       "      <th>Mode %</th>\n",
       "      <td>0.112233</td>\n",
       "      <td>64.7587</td>\n",
       "      <td>0.785634</td>\n",
       "      <td>1.96078</td>\n",
       "      <td>72.4409</td>\n",
       "    </tr>\n",
       "    <tr>\n",
       "      <th>2nd Mode</th>\n",
       "      <td>Crosby, Miss. Harriet R</td>\n",
       "      <td>female</td>\n",
       "      <td>CA. 2343</td>\n",
       "      <td>C23 C25 C27</td>\n",
       "      <td>C</td>\n",
       "    </tr>\n",
       "    <tr>\n",
       "      <th>2nd Mode Freq.</th>\n",
       "      <td>1</td>\n",
       "      <td>314</td>\n",
       "      <td>7</td>\n",
       "      <td>4</td>\n",
       "      <td>168</td>\n",
       "    </tr>\n",
       "    <tr>\n",
       "      <th>2nd Mode %</th>\n",
       "      <td>0.112233</td>\n",
       "      <td>35.2413</td>\n",
       "      <td>0.785634</td>\n",
       "      <td>1.96078</td>\n",
       "      <td>18.8976</td>\n",
       "    </tr>\n",
       "  </tbody>\n",
       "</table>\n",
       "</div>"
      ],
      "text/plain": [
       "                                      Name      Sex    Ticket        Cabin  \\\n",
       "Count                                  891      891       891          891   \n",
       "% Miss                                   0        0         0      77.1044   \n",
       "Cardinality                            891        2       681          147   \n",
       "Mode            Douglas, Mr. Walter Donald     male      1601      B96 B98   \n",
       "Mode Freq.                               1      577         7            4   \n",
       "Mode %                            0.112233  64.7587  0.785634      1.96078   \n",
       "2nd Mode           Crosby, Miss. Harriet R   female  CA. 2343  C23 C25 C27   \n",
       "2nd Mode Freq.                           1      314         7            4   \n",
       "2nd Mode %                        0.112233  35.2413  0.785634      1.96078   \n",
       "\n",
       "                Embarked  \n",
       "Count                891  \n",
       "% Miss          0.224467  \n",
       "Cardinality            3  \n",
       "Mode                   S  \n",
       "Mode Freq.           644  \n",
       "Mode %           72.4409  \n",
       "2nd Mode               C  \n",
       "2nd Mode Freq.       168  \n",
       "2nd Mode %       18.8976  "
      ]
     },
     "execution_count": 9,
     "metadata": {},
     "output_type": "execute_result"
    }
   ],
   "source": [
    "cat_data_quality_report(df_titanic_train)"
   ]
  },
  {
   "cell_type": "markdown",
   "metadata": {},
   "source": [
    "### Looking at the data below columns have null values:\n",
    "\n",
    "- Age\n",
    "- Cabin\n",
    "- Embarked"
   ]
  },
  {
   "cell_type": "code",
   "execution_count": 10,
   "metadata": {},
   "outputs": [
    {
     "name": "stdout",
     "output_type": "stream",
     "text": [
      "Missing Values in Age : 177\n",
      "% of missing values: 19.87 %\n",
      "\n",
      "-------------\n",
      "\n",
      "Missing Values in Cabin : 687\n",
      "% of missing values: 77.1 %\n",
      "\n",
      "-------------\n",
      "\n",
      "Missing Values in Embarked : 2\n",
      "% of missing values: 0.22 %\n",
      "\n",
      "-------------\n",
      "\n"
     ]
    }
   ],
   "source": [
    "nulls_column=df_titanic_train.isnull().any() #Get columns with any null values in the training dataset\n",
    "\n",
    "# Code to give counts for columns with null compared to total count of dataframe\n",
    "total_rows=891\n",
    "for items in nulls_column.iteritems(): \n",
    "    if items[1]:\n",
    "        col=items[0]\n",
    "        cnt=df_titanic_train[col].isnull().sum()\n",
    "        missing_Percentage=(cnt/total_rows)*100\n",
    "        print(\"Missing Values in\", col,\":\",cnt)\n",
    "       \n",
    "        print(\"% of missing values:\",round(missing_Percentage,2),\"%\")\n",
    "        print()\n",
    "        print('-------------')\n",
    "        print()"
   ]
  },
  {
   "cell_type": "markdown",
   "metadata": {},
   "source": [
    "### Data Handling\n",
    "\n",
    "#### Lets start with Exploration of Age feature"
   ]
  },
  {
   "cell_type": "code",
   "execution_count": 11,
   "metadata": {},
   "outputs": [
    {
     "data": {
      "text/plain": [
       "count    714.000000\n",
       "mean      29.699118\n",
       "std       14.526497\n",
       "min        0.420000\n",
       "25%       20.125000\n",
       "50%       28.000000\n",
       "75%       38.000000\n",
       "max       80.000000\n",
       "Name: Age, dtype: float64"
      ]
     },
     "execution_count": 11,
     "metadata": {},
     "output_type": "execute_result"
    }
   ],
   "source": [
    "#Age Distribution before imputation:\n",
    "df_titanic_train['Age'].describe()"
   ]
  },
  {
   "cell_type": "code",
   "execution_count": 12,
   "metadata": {},
   "outputs": [
    {
     "data": {
      "text/plain": [
       "<matplotlib.axes._subplots.AxesSubplot at 0x2b43556bc40>"
      ]
     },
     "execution_count": 12,
     "metadata": {},
     "output_type": "execute_result"
    },
    {
     "data": {
      "image/png": "[encoded data removed]",
      "text/plain": [
       "<Figure size 432x288 with 1 Axes>"
      ]
     },
     "metadata": {
      "needs_background": "light"
     },
     "output_type": "display_data"
    }
   ],
   "source": [
    "sns.distplot(df_titanic_train['Age'],color='y')"
   ]
  },
  {
   "cell_type": "markdown",
   "metadata": {},
   "source": [
    "### Imputation with random values generated between mean and 1.5 standard deviation of mean, value of Age Column"
   ]
  },
  {
   "cell_type": "code",
   "execution_count": 13,
   "metadata": {},
   "outputs": [],
   "source": [
    "mean = df_titanic_train[\"Age\"].mean()\n",
    "std = df_titanic_train[\"Age\"].std()\n",
    "is_null = df_titanic_train[\"Age\"].isnull().sum()\n",
    "# compute random numbers between the mean, std and is_null\n",
    "random_age = np.random.randint(mean - (1.5*std), mean + (1.5*std), size = is_null)\n",
    "df_titanic_train.loc[df_titanic_train[\"Age\"].isnull(),'Age']=random_age"
   ]
  },
  {
   "cell_type": "code",
   "execution_count": 14,
   "metadata": {},
   "outputs": [
    {
     "data": {
      "text/plain": [
       "0"
      ]
     },
     "execution_count": 14,
     "metadata": {},
     "output_type": "execute_result"
    }
   ],
   "source": [
    "df_titanic_train['Age'].isnull().sum()"
   ]
  },
  {
   "cell_type": "code",
   "execution_count": 15,
   "metadata": {},
   "outputs": [
    {
     "data": {
      "text/plain": [
       "count    891.000000\n",
       "mean      29.188743\n",
       "std       14.169554\n",
       "min        0.420000\n",
       "25%       20.000000\n",
       "50%       28.000000\n",
       "75%       38.500000\n",
       "max       80.000000\n",
       "Name: Age, dtype: float64"
      ]
     },
     "execution_count": 15,
     "metadata": {},
     "output_type": "execute_result"
    }
   ],
   "source": [
    "df_titanic_train['Age'].describe()"
   ]
  },
  {
   "cell_type": "code",
   "execution_count": 16,
   "metadata": {},
   "outputs": [
    {
     "data": {
      "text/plain": [
       "<matplotlib.axes._subplots.AxesSubplot at 0x2b435595190>"
      ]
     },
     "execution_count": 16,
     "metadata": {},
     "output_type": "execute_result"
    },
    {
     "data": {
      "image/png": "[encoded data removed]",
      "text/plain": [
       "<Figure size 432x288 with 1 Axes>"
      ]
     },
     "metadata": {
      "needs_background": "light"
     },
     "output_type": "display_data"
    }
   ],
   "source": [
    "sns.distplot(df_titanic_train['Age'],color='y')"
   ]
  },
  {
   "cell_type": "markdown",
   "metadata": {},
   "source": [
    "` From Both pre and post imputation, we can see  statistical measures are not impacted much. Hence our imputation does not impact feature distribution.`"
   ]
  },
  {
   "cell_type": "markdown",
   "metadata": {},
   "source": [
    "### Missing Value Handling for 'Embarked' column\n",
    "\n",
    "Embarked has only 2 missing values. Hence, it can be changed with mode of the column i.e 'S'"
   ]
  },
  {
   "cell_type": "code",
   "execution_count": 17,
   "metadata": {},
   "outputs": [
    {
     "data": {
      "text/plain": [
       "S    644\n",
       "C    168\n",
       "Q     77\n",
       "Name: Embarked, dtype: int64"
      ]
     },
     "execution_count": 17,
     "metadata": {},
     "output_type": "execute_result"
    }
   ],
   "source": [
    "df_titanic_train['Embarked'].value_counts()"
   ]
  },
  {
   "cell_type": "code",
   "execution_count": 18,
   "metadata": {},
   "outputs": [],
   "source": [
    "df_titanic_train['Embarked'].fillna('S',inplace=True)"
   ]
  },
  {
   "cell_type": "markdown",
   "metadata": {},
   "source": [
    "df_titanic_train['Embarked'].value_counts()"
   ]
  },
  {
   "cell_type": "code",
   "execution_count": 19,
   "metadata": {},
   "outputs": [
    {
     "data": {
      "text/plain": [
       "<matplotlib.axes._subplots.AxesSubplot at 0x2b4356aaa90>"
      ]
     },
     "execution_count": 19,
     "metadata": {},
     "output_type": "execute_result"
    },
    {
     "data": {
      "image/png": "[encoded data removed]",
      "text/plain": [
       "<Figure size 432x288 with 1 Axes>"
      ]
     },
     "metadata": {
      "needs_background": "light"
     },
     "output_type": "display_data"
    }
   ],
   "source": [
    "sns.countplot(x='Embarked', data=df_titanic_train, color=\"c\")"
   ]
  },
  {
   "cell_type": "markdown",
   "metadata": {},
   "source": [
    "### Last column with missing values is \"CABIN\"\n",
    "\n",
    "But it has around 77% missing values and by thumb rule we can drop this feature from model. We will keep it for now and will explore later."
   ]
  },
  {
   "cell_type": "markdown",
   "metadata": {},
   "source": [
    "### Age and Fare Visualization for Outlier detection"
   ]
  },
  {
   "cell_type": "code",
   "execution_count": 20,
   "metadata": {},
   "outputs": [
    {
     "data": {
      "text/plain": [
       "<matplotlib.axes._subplots.AxesSubplot at 0x2b43570db20>"
      ]
     },
     "execution_count": 20,
     "metadata": {},
     "output_type": "execute_result"
    },
    {
     "data": {
      "image/png": "[encoded data removed]",
      "text/plain": [
       "<Figure size 432x288 with 1 Axes>"
      ]
     },
     "metadata": {
      "needs_background": "light"
     },
     "output_type": "display_data"
    }
   ],
   "source": [
    "sns.boxplot(x='Age',data=df_titanic_train)"
   ]
  },
  {
   "cell_type": "code",
   "execution_count": 21,
   "metadata": {},
   "outputs": [
    {
     "data": {
      "text/plain": [
       "<matplotlib.axes._subplots.AxesSubplot at 0x2b435759e50>"
      ]
     },
     "execution_count": 21,
     "metadata": {},
     "output_type": "execute_result"
    },
    {
     "data": {
      "image/png": "[encoded data removed]",
      "text/plain": [
       "<Figure size 432x288 with 1 Axes>"
      ]
     },
     "metadata": {
      "needs_background": "light"
     },
     "output_type": "display_data"
    }
   ],
   "source": [
    "sns.boxplot(x='Fare',data=df_titanic_train)"
   ]
  },
  {
   "cell_type": "markdown",
   "metadata": {},
   "source": [
    "### We can see there are outliers in both the columns , but these outliers are valid. There is no invalid date or fare value. Hence we will not change it here. These outliers will be handles via normalization and binning."
   ]
  },
  {
   "cell_type": "markdown",
   "metadata": {},
   "source": [
    "### Feature Engineering\n",
    "\n",
    "#### Exploring mixed columns like Name, Ticket and Cabin"
   ]
  },
  {
   "cell_type": "markdown",
   "metadata": {},
   "source": [
    "### 1. Creating a new feature called Prefix using Name column"
   ]
  },
  {
   "cell_type": "code",
   "execution_count": 22,
   "metadata": {},
   "outputs": [],
   "source": [
    "import re\n",
    "#Function get title from name\n",
    "def get_title(row):\n",
    "    y= re.findall(',\\s(\\w*)',row)\n",
    "    return (''.join(y))"
   ]
  },
  {
   "cell_type": "code",
   "execution_count": 23,
   "metadata": {},
   "outputs": [],
   "source": [
    "df_titanic_train['Prefix']=df_titanic_train['Name'].apply(get_title)"
   ]
  },
  {
   "cell_type": "code",
   "execution_count": 24,
   "metadata": {},
   "outputs": [
    {
     "data": {
      "text/plain": [
       "Mr          517\n",
       "Miss        182\n",
       "Mrs         125\n",
       "Master       40\n",
       "Dr            7\n",
       "Rev           6\n",
       "Mlle          2\n",
       "Major         2\n",
       "Col           2\n",
       "Capt          1\n",
       "Don           1\n",
       "Jonkheer      1\n",
       "Ms            1\n",
       "Lady          1\n",
       "the           1\n",
       "Mme           1\n",
       "Sir           1\n",
       "Name: Prefix, dtype: int64"
      ]
     },
     "execution_count": 24,
     "metadata": {},
     "output_type": "execute_result"
    }
   ],
   "source": [
    "df_titanic_train['Prefix'].value_counts()"
   ]
  },
  {
   "cell_type": "markdown",
   "metadata": {},
   "source": [
    "We can group these prefixes into similar values.\n",
    "\n",
    "Miss, Ms, Mlle ,Mme, Mrs= Madam\n",
    "\n",
    "Lady, JonKheer, Sir = Royal\n",
    "\n",
    "Col,Capt,Major=Army\n",
    "\n",
    "Mr,Don= Mr\n",
    "\n",
    "Master\n",
    "\n",
    "Dr\n",
    "\n",
    "Rev\n",
    "\n",
    "the -check\n",
    "\n",
    "\n"
   ]
  },
  {
   "cell_type": "code",
   "execution_count": 25,
   "metadata": {},
   "outputs": [],
   "source": [
    "def Prefix_Group(row):\n",
    "    if row.lower() in ['miss','ms','mlle','mme','mrs']:\n",
    "        return \"Madam\"\n",
    "    elif row.lower() in ['lady','jonkheer','sir']:\n",
    "        return \"elite\"\n",
    "    elif row.lower() in ['col','capt','major']:\n",
    "        return \"army\"\n",
    "    elif row.lower() in ['mr','don']:\n",
    "         return \"Mr\"\n",
    "    elif row.lower() == 'the':\n",
    "        return 'elite'\n",
    "    else:\n",
    "        return row\n",
    "                         "
   ]
  },
  {
   "cell_type": "code",
   "execution_count": 26,
   "metadata": {},
   "outputs": [],
   "source": [
    "df_titanic_train['Prefix_Group']=df_titanic_train.Prefix.apply(Prefix_Group)"
   ]
  },
  {
   "cell_type": "code",
   "execution_count": 27,
   "metadata": {},
   "outputs": [
    {
     "data": {
      "text/plain": [
       "Mr        518\n",
       "Madam     311\n",
       "Master     40\n",
       "Dr          7\n",
       "Rev         6\n",
       "army        5\n",
       "elite       4\n",
       "Name: Prefix_Group, dtype: int64"
      ]
     },
     "execution_count": 27,
     "metadata": {},
     "output_type": "execute_result"
    }
   ],
   "source": [
    "df_titanic_train.Prefix_Group.value_counts()"
   ]
  },
  {
   "cell_type": "markdown",
   "metadata": {},
   "source": [
    "### 2. Exploring Cabin Column and creating new column from it"
   ]
  },
  {
   "cell_type": "code",
   "execution_count": 28,
   "metadata": {},
   "outputs": [
    {
     "data": {
      "text/html": [
       "<div>\n",
       "<style scoped>\n",
       "    .dataframe tbody tr th:only-of-type {\n",
       "        vertical-align: middle;\n",
       "    }\n",
       "\n",
       "    .dataframe tbody tr th {\n",
       "        vertical-align: top;\n",
       "    }\n",
       "\n",
       "    .dataframe thead th {\n",
       "        text-align: right;\n",
       "    }\n",
       "</style>\n",
       "<table border=\"1\" class=\"dataframe\">\n",
       "  <thead>\n",
       "    <tr style=\"text-align: right;\">\n",
       "      <th></th>\n",
       "      <th>Cabin</th>\n",
       "      <th>Pclass</th>\n",
       "      <th>Fare</th>\n",
       "      <th>Ticket</th>\n",
       "    </tr>\n",
       "  </thead>\n",
       "  <tbody>\n",
       "    <tr>\n",
       "      <th>0</th>\n",
       "      <td>NaN</td>\n",
       "      <td>3</td>\n",
       "      <td>7.2500</td>\n",
       "      <td>A/5 21171</td>\n",
       "    </tr>\n",
       "    <tr>\n",
       "      <th>1</th>\n",
       "      <td>C85</td>\n",
       "      <td>1</td>\n",
       "      <td>71.2833</td>\n",
       "      <td>PC 17599</td>\n",
       "    </tr>\n",
       "    <tr>\n",
       "      <th>2</th>\n",
       "      <td>NaN</td>\n",
       "      <td>3</td>\n",
       "      <td>7.9250</td>\n",
       "      <td>STON/O2. 3101282</td>\n",
       "    </tr>\n",
       "    <tr>\n",
       "      <th>3</th>\n",
       "      <td>C123</td>\n",
       "      <td>1</td>\n",
       "      <td>53.1000</td>\n",
       "      <td>113803</td>\n",
       "    </tr>\n",
       "    <tr>\n",
       "      <th>4</th>\n",
       "      <td>NaN</td>\n",
       "      <td>3</td>\n",
       "      <td>8.0500</td>\n",
       "      <td>373450</td>\n",
       "    </tr>\n",
       "    <tr>\n",
       "      <th>...</th>\n",
       "      <td>...</td>\n",
       "      <td>...</td>\n",
       "      <td>...</td>\n",
       "      <td>...</td>\n",
       "    </tr>\n",
       "    <tr>\n",
       "      <th>886</th>\n",
       "      <td>NaN</td>\n",
       "      <td>2</td>\n",
       "      <td>13.0000</td>\n",
       "      <td>211536</td>\n",
       "    </tr>\n",
       "    <tr>\n",
       "      <th>887</th>\n",
       "      <td>B42</td>\n",
       "      <td>1</td>\n",
       "      <td>30.0000</td>\n",
       "      <td>112053</td>\n",
       "    </tr>\n",
       "    <tr>\n",
       "      <th>888</th>\n",
       "      <td>NaN</td>\n",
       "      <td>3</td>\n",
       "      <td>23.4500</td>\n",
       "      <td>W./C. 6607</td>\n",
       "    </tr>\n",
       "    <tr>\n",
       "      <th>889</th>\n",
       "      <td>C148</td>\n",
       "      <td>1</td>\n",
       "      <td>30.0000</td>\n",
       "      <td>111369</td>\n",
       "    </tr>\n",
       "    <tr>\n",
       "      <th>890</th>\n",
       "      <td>NaN</td>\n",
       "      <td>3</td>\n",
       "      <td>7.7500</td>\n",
       "      <td>370376</td>\n",
       "    </tr>\n",
       "  </tbody>\n",
       "</table>\n",
       "<p>891 rows × 4 columns</p>\n",
       "</div>"
      ],
      "text/plain": [
       "    Cabin  Pclass     Fare            Ticket\n",
       "0     NaN       3   7.2500         A/5 21171\n",
       "1     C85       1  71.2833          PC 17599\n",
       "2     NaN       3   7.9250  STON/O2. 3101282\n",
       "3    C123       1  53.1000            113803\n",
       "4     NaN       3   8.0500            373450\n",
       "..    ...     ...      ...               ...\n",
       "886   NaN       2  13.0000            211536\n",
       "887   B42       1  30.0000            112053\n",
       "888   NaN       3  23.4500        W./C. 6607\n",
       "889  C148       1  30.0000            111369\n",
       "890   NaN       3   7.7500            370376\n",
       "\n",
       "[891 rows x 4 columns]"
      ]
     },
     "execution_count": 28,
     "metadata": {},
     "output_type": "execute_result"
    }
   ],
   "source": [
    "df_titanic_train[['Cabin','Pclass','Fare','Ticket']]"
   ]
  },
  {
   "cell_type": "code",
   "execution_count": 29,
   "metadata": {},
   "outputs": [],
   "source": [
    "#Lets use class to calculate deck associated with cabin. Cabin number is combination of Deck and number. Decks are associated with each class.\n",
    "df_titanic_train['Deck']=df_titanic_train['Cabin'].str[0]"
   ]
  },
  {
   "cell_type": "code",
   "execution_count": 30,
   "metadata": {},
   "outputs": [
    {
     "data": {
      "text/plain": [
       "count     204\n",
       "unique      8\n",
       "top         C\n",
       "freq       59\n",
       "Name: Deck, dtype: object"
      ]
     },
     "execution_count": 30,
     "metadata": {},
     "output_type": "execute_result"
    }
   ],
   "source": [
    "df_titanic_train['Deck'].describe()"
   ]
  },
  {
   "cell_type": "code",
   "execution_count": 31,
   "metadata": {},
   "outputs": [
    {
     "data": {
      "text/plain": [
       "C    59\n",
       "B    47\n",
       "D    29\n",
       "E    25\n",
       "A    15\n",
       "T     1\n",
       "Name: Deck, dtype: int64"
      ]
     },
     "execution_count": 31,
     "metadata": {},
     "output_type": "execute_result"
    }
   ],
   "source": [
    "df_titanic_train['Deck'][df_titanic_train['Pclass']==1].value_counts()"
   ]
  },
  {
   "cell_type": "code",
   "execution_count": 32,
   "metadata": {},
   "outputs": [
    {
     "data": {
      "text/plain": [
       "F    8\n",
       "E    4\n",
       "D    4\n",
       "Name: Deck, dtype: int64"
      ]
     },
     "execution_count": 32,
     "metadata": {},
     "output_type": "execute_result"
    }
   ],
   "source": [
    "df_titanic_train['Deck'][df_titanic_train['Pclass']==2].value_counts()"
   ]
  },
  {
   "cell_type": "code",
   "execution_count": 33,
   "metadata": {},
   "outputs": [
    {
     "data": {
      "text/plain": [
       "F    5\n",
       "G    4\n",
       "E    3\n",
       "Name: Deck, dtype: int64"
      ]
     },
     "execution_count": 33,
     "metadata": {},
     "output_type": "execute_result"
    }
   ],
   "source": [
    "df_titanic_train['Deck'][df_titanic_train['Pclass']==3].value_counts()"
   ]
  },
  {
   "cell_type": "code",
   "execution_count": 34,
   "metadata": {},
   "outputs": [],
   "source": [
    "#Replace nulls with 'U' in deck\n",
    "df_titanic_train['Deck'].fillna('U',inplace=True)"
   ]
  },
  {
   "cell_type": "code",
   "execution_count": 35,
   "metadata": {},
   "outputs": [
    {
     "data": {
      "text/plain": [
       "<matplotlib.axes._subplots.AxesSubplot at 0x2b435705c10>"
      ]
     },
     "execution_count": 35,
     "metadata": {},
     "output_type": "execute_result"
    },
    {
     "data": {
      "image/png": "[encoded data removed]",
      "text/plain": [
       "<Figure size 432x288 with 1 Axes>"
      ]
     },
     "metadata": {
      "needs_background": "light"
     },
     "output_type": "display_data"
    }
   ],
   "source": [
    "sns.countplot(x='Deck', data=df_titanic_train, color=\"c\")"
   ]
  },
  {
   "cell_type": "markdown",
   "metadata": {},
   "source": [
    "### 3. Ticket Column"
   ]
  },
  {
   "cell_type": "code",
   "execution_count": 36,
   "metadata": {},
   "outputs": [
    {
     "data": {
      "text/plain": [
       "1601        7\n",
       "CA. 2343    7\n",
       "347082      7\n",
       "347088      6\n",
       "3101295     6\n",
       "           ..\n",
       "324669      1\n",
       "65304       1\n",
       "112052      1\n",
       "111240      1\n",
       "349206      1\n",
       "Name: Ticket, Length: 681, dtype: int64"
      ]
     },
     "execution_count": 36,
     "metadata": {},
     "output_type": "execute_result"
    }
   ],
   "source": [
    "df_titanic_train['Ticket'].value_counts()"
   ]
  },
  {
   "cell_type": "code",
   "execution_count": 37,
   "metadata": {},
   "outputs": [
    {
     "data": {
      "text/html": [
       "<div>\n",
       "<style scoped>\n",
       "    .dataframe tbody tr th:only-of-type {\n",
       "        vertical-align: middle;\n",
       "    }\n",
       "\n",
       "    .dataframe tbody tr th {\n",
       "        vertical-align: top;\n",
       "    }\n",
       "\n",
       "    .dataframe thead th {\n",
       "        text-align: right;\n",
       "    }\n",
       "</style>\n",
       "<table border=\"1\" class=\"dataframe\">\n",
       "  <thead>\n",
       "    <tr style=\"text-align: right;\">\n",
       "      <th></th>\n",
       "      <th>PassengerId</th>\n",
       "      <th>Survived</th>\n",
       "      <th>Pclass</th>\n",
       "      <th>Name</th>\n",
       "      <th>Sex</th>\n",
       "      <th>Age</th>\n",
       "      <th>SibSp</th>\n",
       "      <th>Parch</th>\n",
       "      <th>Ticket</th>\n",
       "      <th>Fare</th>\n",
       "      <th>Cabin</th>\n",
       "      <th>Embarked</th>\n",
       "      <th>Prefix</th>\n",
       "      <th>Prefix_Group</th>\n",
       "      <th>Deck</th>\n",
       "    </tr>\n",
       "  </thead>\n",
       "  <tbody>\n",
       "    <tr>\n",
       "      <th>13</th>\n",
       "      <td>14</td>\n",
       "      <td>0</td>\n",
       "      <td>3</td>\n",
       "      <td>Andersson, Mr. Anders Johan</td>\n",
       "      <td>male</td>\n",
       "      <td>39.0</td>\n",
       "      <td>1</td>\n",
       "      <td>5</td>\n",
       "      <td>347082</td>\n",
       "      <td>31.275</td>\n",
       "      <td>NaN</td>\n",
       "      <td>S</td>\n",
       "      <td>Mr</td>\n",
       "      <td>Mr</td>\n",
       "      <td>U</td>\n",
       "    </tr>\n",
       "    <tr>\n",
       "      <th>119</th>\n",
       "      <td>120</td>\n",
       "      <td>0</td>\n",
       "      <td>3</td>\n",
       "      <td>Andersson, Miss. Ellis Anna Maria</td>\n",
       "      <td>female</td>\n",
       "      <td>2.0</td>\n",
       "      <td>4</td>\n",
       "      <td>2</td>\n",
       "      <td>347082</td>\n",
       "      <td>31.275</td>\n",
       "      <td>NaN</td>\n",
       "      <td>S</td>\n",
       "      <td>Miss</td>\n",
       "      <td>Madam</td>\n",
       "      <td>U</td>\n",
       "    </tr>\n",
       "    <tr>\n",
       "      <th>541</th>\n",
       "      <td>542</td>\n",
       "      <td>0</td>\n",
       "      <td>3</td>\n",
       "      <td>Andersson, Miss. Ingeborg Constanzia</td>\n",
       "      <td>female</td>\n",
       "      <td>9.0</td>\n",
       "      <td>4</td>\n",
       "      <td>2</td>\n",
       "      <td>347082</td>\n",
       "      <td>31.275</td>\n",
       "      <td>NaN</td>\n",
       "      <td>S</td>\n",
       "      <td>Miss</td>\n",
       "      <td>Madam</td>\n",
       "      <td>U</td>\n",
       "    </tr>\n",
       "    <tr>\n",
       "      <th>542</th>\n",
       "      <td>543</td>\n",
       "      <td>0</td>\n",
       "      <td>3</td>\n",
       "      <td>Andersson, Miss. Sigrid Elisabeth</td>\n",
       "      <td>female</td>\n",
       "      <td>11.0</td>\n",
       "      <td>4</td>\n",
       "      <td>2</td>\n",
       "      <td>347082</td>\n",
       "      <td>31.275</td>\n",
       "      <td>NaN</td>\n",
       "      <td>S</td>\n",
       "      <td>Miss</td>\n",
       "      <td>Madam</td>\n",
       "      <td>U</td>\n",
       "    </tr>\n",
       "    <tr>\n",
       "      <th>610</th>\n",
       "      <td>611</td>\n",
       "      <td>0</td>\n",
       "      <td>3</td>\n",
       "      <td>Andersson, Mrs. Anders Johan (Alfrida Konstant...</td>\n",
       "      <td>female</td>\n",
       "      <td>39.0</td>\n",
       "      <td>1</td>\n",
       "      <td>5</td>\n",
       "      <td>347082</td>\n",
       "      <td>31.275</td>\n",
       "      <td>NaN</td>\n",
       "      <td>S</td>\n",
       "      <td>Mrs</td>\n",
       "      <td>Madam</td>\n",
       "      <td>U</td>\n",
       "    </tr>\n",
       "    <tr>\n",
       "      <th>813</th>\n",
       "      <td>814</td>\n",
       "      <td>0</td>\n",
       "      <td>3</td>\n",
       "      <td>Andersson, Miss. Ebba Iris Alfrida</td>\n",
       "      <td>female</td>\n",
       "      <td>6.0</td>\n",
       "      <td>4</td>\n",
       "      <td>2</td>\n",
       "      <td>347082</td>\n",
       "      <td>31.275</td>\n",
       "      <td>NaN</td>\n",
       "      <td>S</td>\n",
       "      <td>Miss</td>\n",
       "      <td>Madam</td>\n",
       "      <td>U</td>\n",
       "    </tr>\n",
       "    <tr>\n",
       "      <th>850</th>\n",
       "      <td>851</td>\n",
       "      <td>0</td>\n",
       "      <td>3</td>\n",
       "      <td>Andersson, Master. Sigvard Harald Elias</td>\n",
       "      <td>male</td>\n",
       "      <td>4.0</td>\n",
       "      <td>4</td>\n",
       "      <td>2</td>\n",
       "      <td>347082</td>\n",
       "      <td>31.275</td>\n",
       "      <td>NaN</td>\n",
       "      <td>S</td>\n",
       "      <td>Master</td>\n",
       "      <td>Master</td>\n",
       "      <td>U</td>\n",
       "    </tr>\n",
       "  </tbody>\n",
       "</table>\n",
       "</div>"
      ],
      "text/plain": [
       "     PassengerId  Survived  Pclass  \\\n",
       "13            14         0       3   \n",
       "119          120         0       3   \n",
       "541          542         0       3   \n",
       "542          543         0       3   \n",
       "610          611         0       3   \n",
       "813          814         0       3   \n",
       "850          851         0       3   \n",
       "\n",
       "                                                  Name     Sex   Age  SibSp  \\\n",
       "13                         Andersson, Mr. Anders Johan    male  39.0      1   \n",
       "119                  Andersson, Miss. Ellis Anna Maria  female   2.0      4   \n",
       "541               Andersson, Miss. Ingeborg Constanzia  female   9.0      4   \n",
       "542                  Andersson, Miss. Sigrid Elisabeth  female  11.0      4   \n",
       "610  Andersson, Mrs. Anders Johan (Alfrida Konstant...  female  39.0      1   \n",
       "813                 Andersson, Miss. Ebba Iris Alfrida  female   6.0      4   \n",
       "850            Andersson, Master. Sigvard Harald Elias    male   4.0      4   \n",
       "\n",
       "     Parch  Ticket    Fare Cabin Embarked  Prefix Prefix_Group Deck  \n",
       "13       5  347082  31.275   NaN        S      Mr           Mr    U  \n",
       "119      2  347082  31.275   NaN        S    Miss        Madam    U  \n",
       "541      2  347082  31.275   NaN        S    Miss        Madam    U  \n",
       "542      2  347082  31.275   NaN        S    Miss        Madam    U  \n",
       "610      5  347082  31.275   NaN        S     Mrs        Madam    U  \n",
       "813      2  347082  31.275   NaN        S    Miss        Madam    U  \n",
       "850      2  347082  31.275   NaN        S  Master       Master    U  "
      ]
     },
     "execution_count": 37,
     "metadata": {},
     "output_type": "execute_result"
    }
   ],
   "source": [
    "df_titanic_train[df_titanic_train['Ticket']=='347082']"
   ]
  },
  {
   "cell_type": "markdown",
   "metadata": {},
   "source": [
    "#### Ticket column does not provide much extra information. Hence it will left as it is."
   ]
  },
  {
   "cell_type": "markdown",
   "metadata": {},
   "source": [
    "### 4. We can combine columns SibSp and Prach to create a binary column mentioning if passenger is alone or in group. This might have some connection with survival"
   ]
  },
  {
   "cell_type": "code",
   "execution_count": 38,
   "metadata": {},
   "outputs": [
    {
     "data": {
      "text/plain": [
       "0     537\n",
       "1     161\n",
       "2     102\n",
       "3      29\n",
       "5      22\n",
       "4      15\n",
       "6      12\n",
       "10      7\n",
       "7       6\n",
       "Name: Travelling_with, dtype: int64"
      ]
     },
     "execution_count": 38,
     "metadata": {},
     "output_type": "execute_result"
    }
   ],
   "source": [
    "df_titanic_train[\"Travelling_with\"]=df_titanic_train['SibSp']+df_titanic_train['Parch']\n",
    "df_titanic_train[\"Travelling_with\"].value_counts()"
   ]
  },
  {
   "cell_type": "code",
   "execution_count": 39,
   "metadata": {},
   "outputs": [],
   "source": [
    "def family_group(row):\n",
    "    if row==0:\n",
    "        return \"alone\"\n",
    "    elif row > 0 and row <= 3:\n",
    "        return \"small_group\"\n",
    "    elif row >=4 and row <=6 :\n",
    "        return \"medium_group\"\n",
    "    elif row >6:\n",
    "        return \"large_group\""
   ]
  },
  {
   "cell_type": "code",
   "execution_count": 40,
   "metadata": {},
   "outputs": [],
   "source": [
    "df_titanic_train[\"Family_Group\"]=df_titanic_train[\"Travelling_with\"].apply(family_group)"
   ]
  },
  {
   "cell_type": "code",
   "execution_count": 41,
   "metadata": {},
   "outputs": [
    {
     "data": {
      "text/plain": [
       "alone           537\n",
       "small_group     292\n",
       "medium_group     49\n",
       "large_group      13\n",
       "Name: Family_Group, dtype: int64"
      ]
     },
     "execution_count": 41,
     "metadata": {},
     "output_type": "execute_result"
    }
   ],
   "source": [
    "df_titanic_train.Family_Group.value_counts()"
   ]
  },
  {
   "cell_type": "markdown",
   "metadata": {},
   "source": [
    "### 5. Age Grouping"
   ]
  },
  {
   "cell_type": "code",
   "execution_count": 42,
   "metadata": {},
   "outputs": [
    {
     "data": {
      "text/plain": [
       "24.00    32\n",
       "22.00    32\n",
       "18.00    30\n",
       "21.00    29\n",
       "25.00    28\n",
       "         ..\n",
       "24.50     1\n",
       "34.50     1\n",
       "74.00     1\n",
       "0.92      1\n",
       "0.42      1\n",
       "Name: Age, Length: 88, dtype: int64"
      ]
     },
     "execution_count": 42,
     "metadata": {},
     "output_type": "execute_result"
    }
   ],
   "source": [
    "df_titanic_train['Age'].value_counts()"
   ]
  },
  {
   "cell_type": "code",
   "execution_count": 43,
   "metadata": {},
   "outputs": [
    {
     "data": {
      "text/plain": [
       "count    891.000000\n",
       "mean      29.188743\n",
       "std       14.169554\n",
       "min        0.420000\n",
       "25%       20.000000\n",
       "50%       28.000000\n",
       "75%       38.500000\n",
       "max       80.000000\n",
       "Name: Age, dtype: float64"
      ]
     },
     "execution_count": 43,
     "metadata": {},
     "output_type": "execute_result"
    }
   ],
   "source": [
    "df_titanic_train.Age.describe()"
   ]
  },
  {
   "cell_type": "code",
   "execution_count": 44,
   "metadata": {},
   "outputs": [
    {
     "data": {
      "text/plain": [
       "<matplotlib.axes._subplots.AxesSubplot at 0x2b43494f910>"
      ]
     },
     "execution_count": 44,
     "metadata": {},
     "output_type": "execute_result"
    },
    {
     "data": {
      "image/png": "[encoded data removed]",
      "text/plain": [
       "<Figure size 432x288 with 1 Axes>"
      ]
     },
     "metadata": {
      "needs_background": "light"
     },
     "output_type": "display_data"
    }
   ],
   "source": [
    "sns.distplot(df_titanic_train['Age'],color='y')"
   ]
  },
  {
   "cell_type": "code",
   "execution_count": 45,
   "metadata": {},
   "outputs": [],
   "source": [
    "#Based on above distribution of Age, we will divide age into 5 groups: 0-15(minor), 15-35(adults),35-45(middle-aged1) ,\n",
    "#45-60(middle-aged2) amd 60+(senior)\n",
    "def Age_Group(row):\n",
    "    if row >= 0 and row <= 15:\n",
    "        return \"minor\"\n",
    "    elif row > 15 and row <= 35:\n",
    "        return \"adults\"\n",
    "    elif row > 35 and row <=45 :\n",
    "        return \"middle-aged1\"\n",
    "    elif row > 45 and row <=60 :\n",
    "        return \"middle-aged2\"\n",
    "    elif row >60:\n",
    "        return \"senior\""
   ]
  },
  {
   "cell_type": "code",
   "execution_count": 46,
   "metadata": {},
   "outputs": [],
   "source": [
    "df_titanic_train[\"Age_Group\"]=df_titanic_train[\"Age\"].apply(Age_Group)"
   ]
  },
  {
   "cell_type": "code",
   "execution_count": 47,
   "metadata": {},
   "outputs": [
    {
     "data": {
      "text/plain": [
       "adults          498\n",
       "middle-aged1    155\n",
       "minor           121\n",
       "middle-aged2     95\n",
       "senior           22\n",
       "Name: Age_Group, dtype: int64"
      ]
     },
     "execution_count": 47,
     "metadata": {},
     "output_type": "execute_result"
    }
   ],
   "source": [
    "df_titanic_train.Age_Group.value_counts()"
   ]
  },
  {
   "cell_type": "markdown",
   "metadata": {},
   "source": [
    "## Visualization of Relationships between descriptive features and target feature"
   ]
  },
  {
   "cell_type": "code",
   "execution_count": 48,
   "metadata": {},
   "outputs": [
    {
     "data": {
      "text/plain": [
       "<seaborn.axisgrid.FacetGrid at 0x2b4348155b0>"
      ]
     },
     "execution_count": 48,
     "metadata": {},
     "output_type": "execute_result"
    },
    {
     "data": {
      "image/png": "[encoded data removed]",
      "text/plain": [
       "<Figure size 411.875x360 with 1 Axes>"
      ]
     },
     "metadata": {
      "needs_background": "light"
     },
     "output_type": "display_data"
    }
   ],
   "source": [
    "sns.catplot('Prefix_Group',data=df_titanic_train,hue='Survived',kind='count')"
   ]
  },
  {
   "cell_type": "code",
   "execution_count": 49,
   "metadata": {},
   "outputs": [
    {
     "data": {
      "text/plain": [
       "<seaborn.axisgrid.FacetGrid at 0x2b435299fa0>"
      ]
     },
     "execution_count": 49,
     "metadata": {},
     "output_type": "execute_result"
    },
    {
     "data": {
      "image/png": "[encoded data removed]",
      "text/plain": [
       "<Figure size 411.875x360 with 1 Axes>"
      ]
     },
     "metadata": {
      "needs_background": "light"
     },
     "output_type": "display_data"
    }
   ],
   "source": [
    "sns.catplot('Age_Group',data=df_titanic_train,hue='Survived',kind='count')"
   ]
  },
  {
   "cell_type": "code",
   "execution_count": 50,
   "metadata": {},
   "outputs": [
    {
     "data": {
      "text/plain": [
       "<seaborn.axisgrid.FacetGrid at 0x2b434926100>"
      ]
     },
     "execution_count": 50,
     "metadata": {},
     "output_type": "execute_result"
    },
    {
     "data": {
      "image/png": "[encoded data removed]",
      "text/plain": [
       "<Figure size 411.875x360 with 1 Axes>"
      ]
     },
     "metadata": {
      "needs_background": "light"
     },
     "output_type": "display_data"
    }
   ],
   "source": [
    "sns.catplot('Deck',data=df_titanic_train,hue='Survived',kind='count')"
   ]
  },
  {
   "cell_type": "code",
   "execution_count": 51,
   "metadata": {},
   "outputs": [
    {
     "data": {
      "text/plain": [
       "<seaborn.axisgrid.FacetGrid at 0x2b434878190>"
      ]
     },
     "execution_count": 51,
     "metadata": {},
     "output_type": "execute_result"
    },
    {
     "data": {
      "image/png": "[encoded data removed]",
      "text/plain": [
       "<Figure size 411.875x360 with 1 Axes>"
      ]
     },
     "metadata": {
      "needs_background": "light"
     },
     "output_type": "display_data"
    }
   ],
   "source": [
    "sns.catplot('Family_Group',data=df_titanic_train,hue='Survived',kind='count')"
   ]
  },
  {
   "cell_type": "code",
   "execution_count": 52,
   "metadata": {},
   "outputs": [
    {
     "data": {
      "text/plain": [
       "<seaborn.axisgrid.FacetGrid at 0x2b43478d9a0>"
      ]
     },
     "execution_count": 52,
     "metadata": {},
     "output_type": "execute_result"
    },
    {
     "data": {
      "image/png": "[encoded data removed]",
      "text/plain": [
       "<Figure size 411.875x360 with 1 Axes>"
      ]
     },
     "metadata": {
      "needs_background": "light"
     },
     "output_type": "display_data"
    }
   ],
   "source": [
    "sns.catplot('Pclass',data=df_titanic_train,hue='Survived',kind='count')"
   ]
  },
  {
   "cell_type": "code",
   "execution_count": 53,
   "metadata": {},
   "outputs": [
    {
     "data": {
      "text/plain": [
       "<seaborn.axisgrid.FacetGrid at 0x2b434909d90>"
      ]
     },
     "execution_count": 53,
     "metadata": {},
     "output_type": "execute_result"
    },
    {
     "data": {
      "image/png": "[encoded data removed]",
      "text/plain": [
       "<Figure size 411.875x360 with 1 Axes>"
      ]
     },
     "metadata": {
      "needs_background": "light"
     },
     "output_type": "display_data"
    }
   ],
   "source": [
    "sns.catplot('Embarked',data=df_titanic_train,hue='Survived',kind='count')"
   ]
  },
  {
   "cell_type": "code",
   "execution_count": 54,
   "metadata": {},
   "outputs": [
    {
     "data": {
      "text/plain": [
       "<seaborn.axisgrid.FacetGrid at 0x2b4349c8a60>"
      ]
     },
     "execution_count": 54,
     "metadata": {},
     "output_type": "execute_result"
    },
    {
     "data": {
      "image/png": "[encoded data removed]",
      "text/plain": [
       "<Figure size 411.875x360 with 1 Axes>"
      ]
     },
     "metadata": {
      "needs_background": "light"
     },
     "output_type": "display_data"
    }
   ],
   "source": [
    "sns.catplot('Sex',data=df_titanic_train,hue='Survived',kind='count')"
   ]
  },
  {
   "cell_type": "code",
   "execution_count": 55,
   "metadata": {},
   "outputs": [
    {
     "data": {
      "text/plain": [
       "<matplotlib.axes._subplots.AxesSubplot at 0x2b434a25250>"
      ]
     },
     "execution_count": 55,
     "metadata": {},
     "output_type": "execute_result"
    },
    {
     "data": {
      "image/png": "[encoded data removed]",
      "text/plain": [
       "<Figure size 432x288 with 1 Axes>"
      ]
     },
     "metadata": {
      "needs_background": "light"
     },
     "output_type": "display_data"
    }
   ],
   "source": [
    "#Plot Age vs Survived\n",
    "sns.boxplot(y=df_titanic_train['Age'],x=df_titanic_train['Survived'])"
   ]
  },
  {
   "cell_type": "code",
   "execution_count": 56,
   "metadata": {},
   "outputs": [
    {
     "data": {
      "text/plain": [
       "<matplotlib.axes._subplots.AxesSubplot at 0x2b434a96220>"
      ]
     },
     "execution_count": 56,
     "metadata": {},
     "output_type": "execute_result"
    },
    {
     "data": {
      "image/png": "[encoded data removed]",
      "text/plain": [
       "<Figure size 432x288 with 1 Axes>"
      ]
     },
     "metadata": {
      "needs_background": "light"
     },
     "output_type": "display_data"
    }
   ],
   "source": [
    "sns.boxplot(y=df_titanic_train['Fare'],x=df_titanic_train['Survived'])\n",
    "#There is not much relationship between fair and survial "
   ]
  },
  {
   "cell_type": "code",
   "execution_count": 57,
   "metadata": {},
   "outputs": [
    {
     "data": {
      "text/plain": [
       "<matplotlib.axes._subplots.AxesSubplot at 0x2b434ae9340>"
      ]
     },
     "execution_count": 57,
     "metadata": {},
     "output_type": "execute_result"
    },
    {
     "data": {
      "image/png": "[encoded data removed]",
      "text/plain": [
       "<Figure size 432x288 with 2 Axes>"
      ]
     },
     "metadata": {
      "needs_background": "light"
     },
     "output_type": "display_data"
    }
   ],
   "source": [
    "# Initial Heat Map without featured columns\n",
    "corr = df_titanic_train.corr()\n",
    "sns.heatmap(corr, \n",
    "            xticklabels=corr.columns.values,\n",
    "            yticklabels=corr.columns.values,\n",
    "            annot = True, fmt='.1g', cmap= 'coolwarm')"
   ]
  },
  {
   "cell_type": "markdown",
   "metadata": {},
   "source": [
    "### Converting Categorical Features to Numerical categories\n",
    "\n",
    "#### Sex"
   ]
  },
  {
   "cell_type": "code",
   "execution_count": 58,
   "metadata": {},
   "outputs": [],
   "source": [
    "df_titanic_train.loc[df_titanic_train['Sex']=='male', ['Sex']] = 0\n",
    "df_titanic_train.loc[df_titanic_train['Sex']=='female', ['Sex']] = 1\n",
    "df_titanic_train['Sex']=df_titanic_train.Sex.astype(str).astype(int)"
   ]
  },
  {
   "cell_type": "markdown",
   "metadata": {},
   "source": [
    "#### Embarked"
   ]
  },
  {
   "cell_type": "code",
   "execution_count": 59,
   "metadata": {},
   "outputs": [],
   "source": [
    "df_titanic_train.loc[df_titanic_train['Embarked']=='S', ['Embarked']] = 2\n",
    "df_titanic_train.loc[df_titanic_train['Embarked']=='C', ['Embarked']] = 1\n",
    "df_titanic_train.loc[df_titanic_train['Embarked']=='Q', ['Embarked']] = 0\n",
    "df_titanic_train['Embarked']=df_titanic_train.Embarked.astype(str).astype(int)"
   ]
  },
  {
   "cell_type": "markdown",
   "metadata": {},
   "source": [
    "#### Family_Group"
   ]
  },
  {
   "cell_type": "code",
   "execution_count": 60,
   "metadata": {},
   "outputs": [],
   "source": [
    "df_titanic_train.loc[df_titanic_train['Family_Group']=='alone', ['Family_Group']] = 0\n",
    "df_titanic_train.loc[df_titanic_train['Family_Group']=='small_group', ['Family_Group']] = 1\n",
    "df_titanic_train.loc[df_titanic_train['Family_Group']=='medium_group', ['Family_Group']] = 2\n",
    "df_titanic_train.loc[df_titanic_train['Family_Group']=='large_group', ['Family_Group']] = 3\n",
    "\n",
    "df_titanic_train['Family_Group']=df_titanic_train.Family_Group.astype(str).astype(int)"
   ]
  },
  {
   "cell_type": "markdown",
   "metadata": {},
   "source": [
    "#### Age_Group"
   ]
  },
  {
   "cell_type": "code",
   "execution_count": 61,
   "metadata": {},
   "outputs": [],
   "source": [
    "df_titanic_train.loc[df_titanic_train['Age_Group']=='minor', ['Age_Group']] = 0\n",
    "df_titanic_train.loc[df_titanic_train['Age_Group']=='adults', ['Age_Group']] = 1\n",
    "df_titanic_train.loc[df_titanic_train['Age_Group']=='middle-aged1', ['Age_Group']] = 2\n",
    "df_titanic_train.loc[df_titanic_train['Age_Group']=='middle-aged2', ['Age_Group']] = 3\n",
    "df_titanic_train.loc[df_titanic_train['Age_Group']=='senior', ['Age_Group']] = 4\n",
    "\n",
    "df_titanic_train['Age_Group']=df_titanic_train.Age_Group.astype(str).astype(int)"
   ]
  },
  {
   "cell_type": "markdown",
   "metadata": {},
   "source": [
    "#### Deck"
   ]
  },
  {
   "cell_type": "code",
   "execution_count": 62,
   "metadata": {},
   "outputs": [],
   "source": [
    "df_titanic_train.loc[df_titanic_train['Deck']=='A', ['Deck']] = 0\n",
    "df_titanic_train.loc[df_titanic_train['Deck']=='B', ['Deck']] = 1\n",
    "df_titanic_train.loc[df_titanic_train['Deck']=='C', ['Deck']] = 2\n",
    "df_titanic_train.loc[df_titanic_train['Deck']=='D', ['Deck']] = 3\n",
    "df_titanic_train.loc[df_titanic_train['Deck']=='E', ['Deck']] = 4\n",
    "df_titanic_train.loc[df_titanic_train['Deck']=='F', ['Deck']] = 5\n",
    "df_titanic_train.loc[df_titanic_train['Deck']=='G', ['Deck']] = 6\n",
    "df_titanic_train.loc[df_titanic_train['Deck']=='T', ['Deck']] = 7\n",
    "df_titanic_train.loc[df_titanic_train['Deck']=='U', ['Deck']] = 8\n",
    "\n",
    "df_titanic_train['Deck']=df_titanic_train.Deck.astype(str).astype(int)"
   ]
  },
  {
   "cell_type": "markdown",
   "metadata": {},
   "source": [
    "#### Prefix Group"
   ]
  },
  {
   "cell_type": "code",
   "execution_count": 63,
   "metadata": {},
   "outputs": [],
   "source": [
    "df_titanic_train.loc[df_titanic_train['Prefix_Group']=='Mr', ['Prefix_Group']] = 0\n",
    "df_titanic_train.loc[df_titanic_train['Prefix_Group']=='Madam', ['Prefix_Group']] = 1\n",
    "df_titanic_train.loc[df_titanic_train['Prefix_Group']=='Master', ['Prefix_Group']] = 2\n",
    "df_titanic_train.loc[df_titanic_train['Prefix_Group']=='Rev', ['Prefix_Group']] = 3\n",
    "df_titanic_train.loc[df_titanic_train['Prefix_Group']=='Dr', ['Prefix_Group']] = 4\n",
    "df_titanic_train.loc[df_titanic_train['Prefix_Group']=='army', ['Prefix_Group']] = 5\n",
    "df_titanic_train.loc[df_titanic_train['Prefix_Group']=='elite', ['Prefix_Group']] = 6\n",
    "\n",
    "df_titanic_train['Prefix_Group']=df_titanic_train.Prefix_Group.astype(str).astype(int)"
   ]
  },
  {
   "cell_type": "markdown",
   "metadata": {},
   "source": [
    "## Data Normalization(Fare column)"
   ]
  },
  {
   "cell_type": "code",
   "execution_count": 64,
   "metadata": {},
   "outputs": [],
   "source": [
    "#Function to compute min and max normalization\n",
    "def rang_norm(X,low=-1,high=1):\n",
    "    min_score=min(X)\n",
    "    max_score=max(X)\n",
    "    diff=high-low\n",
    "    score_r=max_score-min_score\n",
    "    X_new=[]\n",
    "    for t in X:\n",
    "        t_new=((t-min_score)/score_r)*(high-low)+low\n",
    "        X_new.append(t_new)\n",
    "    return X_new   "
   ]
  },
  {
   "cell_type": "code",
   "execution_count": 65,
   "metadata": {},
   "outputs": [],
   "source": [
    "Fare_New=np.array(df_titanic_train['Fare'])\n",
    "df_titanic_train['Fare']=rang_norm(Fare_New)"
   ]
  },
  {
   "cell_type": "markdown",
   "metadata": {},
   "source": [
    "## Heat Map"
   ]
  },
  {
   "cell_type": "code",
   "execution_count": 66,
   "metadata": {},
   "outputs": [
    {
     "data": {
      "text/plain": [
       "<matplotlib.axes._subplots.AxesSubplot at 0x2b434bfcb50>"
      ]
     },
     "execution_count": 66,
     "metadata": {},
     "output_type": "execute_result"
    },
    {
     "data": {
      "image/png": "[encoded data removed]",
      "text/plain": [
       "<Figure size 432x288 with 2 Axes>"
      ]
     },
     "metadata": {
      "needs_background": "light"
     },
     "output_type": "display_data"
    }
   ],
   "source": [
    "# Compute correlation among the features and the response variable using selected features\n",
    "df_titanic_subset=df_titanic_train[['Survived','Pclass','Sex','Age','Fare','Embarked','Prefix_Group','Deck','Family_Group','Age_Group']]\n",
    "\n",
    "corr = df_titanic_subset.corr()\n",
    "sns.heatmap(corr, \n",
    "            xticklabels=corr.columns.values,\n",
    "            yticklabels=corr.columns.values,\n",
    "            annot = True, fmt='.1g', cmap= 'coolwarm')"
   ]
  },
  {
   "cell_type": "markdown",
   "metadata": {},
   "source": [
    "#### We can see Deck and Class are highly correlated.Featured data has added more correlation with target feature and would be beneficial for prediction."
   ]
  },
  {
   "cell_type": "markdown",
   "metadata": {},
   "source": [
    "### Feature Selection for Model\n",
    "\n",
    "#### We will select most related features with survived: Pclass, Sex,Embarked,Deck,Prefix_group,Fare\n",
    "\n",
    "#### Age , featured Age and Family_Group column  are dropped as it does not show much affect on survival rate."
   ]
  },
  {
   "cell_type": "code",
   "execution_count": 67,
   "metadata": {},
   "outputs": [],
   "source": [
    "# Separate Labels and descriptive features\n",
    "X=df_titanic_train[['Fare','Pclass','Sex','Embarked','Deck','Prefix_Group']]"
   ]
  },
  {
   "cell_type": "code",
   "execution_count": 68,
   "metadata": {},
   "outputs": [],
   "source": [
    "y=df_titanic_train['Survived'] #Labels"
   ]
  },
  {
   "cell_type": "code",
   "execution_count": 69,
   "metadata": {},
   "outputs": [],
   "source": [
    "#Convert dataframe to numpy arrays for model\n",
    "y=np.array(y)\n",
    "X=np.array(X)"
   ]
  },
  {
   "cell_type": "markdown",
   "metadata": {},
   "source": [
    "### Splitting train dataset to further train and test to validate and check the performance of our model\n",
    "\n",
    "First 580 rows for training and remaining 311 for testing the model."
   ]
  },
  {
   "cell_type": "code",
   "execution_count": 70,
   "metadata": {},
   "outputs": [],
   "source": [
    "X_train=X[:580]\n",
    "Y_train=y[:580]"
   ]
  },
  {
   "cell_type": "code",
   "execution_count": 71,
   "metadata": {},
   "outputs": [
    {
     "name": "stdout",
     "output_type": "stream",
     "text": [
      "(580, 6)\n",
      "(580,)\n"
     ]
    }
   ],
   "source": [
    "print(X_train.shape)\n",
    "print(Y_train.shape)"
   ]
  },
  {
   "cell_type": "code",
   "execution_count": 72,
   "metadata": {},
   "outputs": [],
   "source": [
    "X_test=X[580:]\n",
    "y_test=y[580:]"
   ]
  },
  {
   "cell_type": "code",
   "execution_count": 73,
   "metadata": {},
   "outputs": [
    {
     "name": "stdout",
     "output_type": "stream",
     "text": [
      "(311, 6)\n",
      "(311,)\n"
     ]
    }
   ],
   "source": [
    "print(X_test.shape)\n",
    "print(y_test.shape)"
   ]
  },
  {
   "cell_type": "markdown",
   "metadata": {},
   "source": [
    "## Modeling\n",
    "\n",
    "### KNN Implementation\n",
    "\n",
    "Below steps are followed from model implementation:\n",
    "\n",
    "1. Befor calling KNN change test and train dataframe to numpy\n",
    "1. Store Training data\n",
    "2. Calculate Euclidean distance\n",
    "3. Get Nearest neighbors using \"k\" value\n",
    "4. Make prediction based on voting from k values\n"
   ]
  },
  {
   "cell_type": "code",
   "execution_count": 74,
   "metadata": {},
   "outputs": [],
   "source": [
    "#Function for calculating Euclidean distance between two rows\n",
    "def euc_distance(train_row,query_row):\n",
    "    distance=0\n",
    "    for rn in range(len(train_row)):\n",
    "        distance+=(train_row[rn]-query_row[rn])**2\n",
    "    Euc_dist=distance**(0.5)\n",
    "    return Euc_dist   "
   ]
  },
  {
   "cell_type": "code",
   "execution_count": 75,
   "metadata": {},
   "outputs": [],
   "source": [
    "#Function to return dictionary with k nearest neighbors for every test row. \n",
    "#Dictionary key is test dataset rownumber and its values are list of neighbors\n",
    "#with euclidean distance and labels for that train dataset row.\n",
    "def Knn(X_train,y_train,X_test,k=1):\n",
    "    dict_test={}\n",
    "    test_row_cnt=0\n",
    "    neighbors=[]\n",
    "    for row in X_test:\n",
    "        distance_ls=[] #distance list for storing distances of each test row and reseting for next test row.\n",
    "        for idx in range(len(X_train)):\n",
    "            dist=euc_distance(X_train[idx],row)#call function defined above\n",
    "            dist_label=dist,y_train[idx],list(X_train[idx])\n",
    "            distance_ls.append(dist_label)\n",
    "        test_row_cnt+=1 #row number of test row\n",
    "        distance_ls.sort() #sort distance list\n",
    "        k_nearest_neighbors=distance_ls[:k] #slice k nearest neighbors from sorted distance list with train row vectors\n",
    "        dict_test[test_row_cnt]=k_nearest_neighbors\n",
    "    return dict_test #returns dictionary with nearest neighbors and there label values for key as test rownumber"
   ]
  },
  {
   "cell_type": "code",
   "execution_count": 76,
   "metadata": {},
   "outputs": [],
   "source": [
    "#Function for making prediction from nearest neighbors identified by KNN\n",
    "def prediction(dict_neighbors):\n",
    "    #Get maximum voted neighbor\n",
    "    pred_ls=[]\n",
    "    for val in dict_neighbors.items():\n",
    "        label_dict={} #dictionary to store labels as key and there count from nearest neighbors.\n",
    "        for i in val[1]:#loop over list of nearest neighbors for the test row in dictionary\n",
    "            label=i[1] #label is second value in tuple\n",
    "            label_dict[label]=label_dict.get(label,0)+1\n",
    "        #Get label with maximum votes from neighbors\n",
    "        pred_ls.append(max(label_dict, key=label_dict.get))\n",
    "    return pred_ls\n",
    "    "
   ]
  },
  {
   "cell_type": "code",
   "execution_count": 77,
   "metadata": {},
   "outputs": [],
   "source": [
    "#Function get accuracy score between predicted and actual label values\n",
    "def accuracy_score(y,y_pred):\n",
    "    l=len(y)\n",
    "    match_count=0\n",
    "    for i in zip(y,y_pred):\n",
    "        if i[0]==i[1]:\n",
    "            match_count+=1\n",
    "    score=(match_count*100)/l\n",
    "    return score"
   ]
  },
  {
   "cell_type": "markdown",
   "metadata": {},
   "source": [
    "## Evaluation"
   ]
  },
  {
   "cell_type": "code",
   "execution_count": 78,
   "metadata": {},
   "outputs": [],
   "source": [
    "#Function to calculate F1 score\n",
    "def F1_score(y,y_pred):\n",
    "    l=len(y)\n",
    "    TP=0\n",
    "    TN=0\n",
    "    FP=0\n",
    "    FN=0\n",
    "    Con_matrix=pd.DataFrame(columns=['Survive','Died'],index=['Survive','Died'])\n",
    "    for i in range(l):\n",
    "        if y[i]==1:\n",
    "            if y[i]==y_pred[i]:\n",
    "                TP+=1\n",
    "            else:\n",
    "                FN+=1\n",
    "        elif y[i]==0:\n",
    "            if y[i]==y_pred[i]:\n",
    "                TN+=1\n",
    "            else:\n",
    "                FP+=1\n",
    "    Precision=TP/(TP+FP)\n",
    "    Recall=TP/(TP+FN)\n",
    "    F1=(2*(Precision*Recall))/(Recall+Precision)\n",
    "    return F1"
   ]
  },
  {
   "cell_type": "code",
   "execution_count": 79,
   "metadata": {},
   "outputs": [],
   "source": [
    "#Function for displaying confusion matrix\n",
    "def Confusion_Matrix(y,y_pred):\n",
    "    l=len(y)\n",
    "    TP=0#True Positive\n",
    "    TN=0#True Negative\n",
    "    FP=0#False Positive\n",
    "    FN=0#False Negative\n",
    "    Con_matrix=pd.DataFrame(columns=['Survive','Died'],index=['Survive','Died'])\n",
    "    for i in range(l):\n",
    "        if y[i]==1:\n",
    "            if y[i]==y_pred[i]:\n",
    "                TP+=1\n",
    "            else:\n",
    "                FN+=1\n",
    "        elif y[i]==0:\n",
    "            if y[i]==y_pred[i]:\n",
    "                TN+=1\n",
    "            else:\n",
    "                FP+=1\n",
    "    \n",
    "    Con_matrix['Survive']=[TP,FP]   \n",
    "    Con_matrix['Died']=[FN,TN]\n",
    "    return Con_matrix"
   ]
  },
  {
   "cell_type": "code",
   "execution_count": 80,
   "metadata": {},
   "outputs": [
    {
     "name": "stdout",
     "output_type": "stream",
     "text": [
      "Accuracy for k= 1 is 82.63665594855306\n",
      "F1 score is  0.73\n",
      "---------------------\n",
      "Accuracy for k= 3 is 82.63665594855306\n",
      "F1 score is  0.7326732673267328\n",
      "---------------------\n",
      "Accuracy for k= 5 is 85.53054662379421\n",
      "F1 score is  0.784688995215311\n",
      "---------------------\n",
      "Accuracy for k= 7 is 83.27974276527331\n",
      "F1 score is  0.7425742574257426\n",
      "---------------------\n",
      "Accuracy for k= 9 is 81.67202572347267\n",
      "F1 score is  0.7164179104477613\n",
      "---------------------\n",
      "Accuracy for k= 11 is 80.06430868167203\n",
      "F1 score is  0.6868686868686869\n",
      "---------------------\n",
      "Accuracy for k= 13 is 81.35048231511254\n",
      "F1 score is  0.7128712871287128\n",
      "---------------------\n",
      "Accuracy for k= 15 is 81.35048231511254\n",
      "F1 score is  0.7184466019417476\n",
      "---------------------\n",
      "Accuracy for k= 17 is 80.70739549839229\n",
      "F1 score is  0.7087378640776698\n",
      "---------------------\n",
      "Accuracy for k= 19 is 81.02893890675242\n",
      "F1 score is  0.7064676616915423\n",
      "---------------------\n",
      "Accuracy for k= 21 is 81.67202572347267\n",
      "F1 score is  0.7219512195121951\n",
      "---------------------\n",
      "Accuracy for k= 23 is 80.70739549839229\n",
      "F1 score is  0.7087378640776698\n",
      "---------------------\n",
      "Accuracy for k= 25 is 81.02893890675242\n",
      "F1 score is  0.7093596059113301\n",
      "---------------------\n",
      "Accuracy for k= 27 is 81.35048231511254\n",
      "F1 score is  0.7184466019417476\n",
      "---------------------\n",
      "Accuracy for k= 29 is 82.31511254019293\n",
      "F1 score is  0.7317073170731707\n",
      "---------------------\n"
     ]
    }
   ],
   "source": [
    "# Code for selecting best \"k\" value based on highest accuracy and F1 score\n",
    "for k1 in range(1,30,2):\n",
    "    knn_model=Knn(X_train,Y_train,X_test,k=k1)\n",
    "    y_pred=prediction(knn_model)\n",
    "    sc=accuracy_score(y_test,y_pred)\n",
    "    f1=F1_score(y_test,y_pred)\n",
    "    print(\"Accuracy for k=\",k1,\"is\",sc)\n",
    "    print(\"F1 score is \", f1)\n",
    "    print(\"---------------------\")"
   ]
  },
  {
   "cell_type": "markdown",
   "metadata": {},
   "source": [
    "## Best K value is K=5, it gives 85% accuracy and 78% as F1"
   ]
  },
  {
   "cell_type": "code",
   "execution_count": 81,
   "metadata": {},
   "outputs": [
    {
     "name": "stdout",
     "output_type": "stream",
     "text": [
      "Accuracy is: 85.53054662379421\n",
      "F1 score is: 0.784688995215311\n",
      "\n"
     ]
    },
    {
     "data": {
      "text/plain": [
       "<matplotlib.axes._subplots.AxesSubplot at 0x2b43548ceb0>"
      ]
     },
     "execution_count": 81,
     "metadata": {},
     "output_type": "execute_result"
    },
    {
     "data": {
      "image/png": "[encoded data removed]",
      "text/plain": [
       "<Figure size 432x288 with 2 Axes>"
      ]
     },
     "metadata": {
      "needs_background": "light"
     },
     "output_type": "display_data"
    }
   ],
   "source": [
    "# Best Model with K=5\n",
    "\n",
    "knn_model=Knn(X_train,Y_train,X_test,k=5)\n",
    "y_pred=prediction(knn_model)\n",
    "sc=accuracy_score(y_test,y_pred)\n",
    "f1=F1_score(y_test,y_pred)\n",
    "print(\"Accuracy is:\",sc)\n",
    "print(\"F1 score is:\",f1)\n",
    "print()\n",
    "cnft=Confusion_Matrix(y_test,y_pred)\n",
    "sns.heatmap(cnft,annot=True)"
   ]
  },
  {
   "cell_type": "code",
   "execution_count": 82,
   "metadata": {},
   "outputs": [
    {
     "data": {
      "text/html": [
       "<div>\n",
       "<style scoped>\n",
       "    .dataframe tbody tr th:only-of-type {\n",
       "        vertical-align: middle;\n",
       "    }\n",
       "\n",
       "    .dataframe tbody tr th {\n",
       "        vertical-align: top;\n",
       "    }\n",
       "\n",
       "    .dataframe thead th {\n",
       "        text-align: right;\n",
       "    }\n",
       "</style>\n",
       "<table border=\"1\" class=\"dataframe\">\n",
       "  <thead>\n",
       "    <tr style=\"text-align: right;\">\n",
       "      <th></th>\n",
       "      <th>Survive</th>\n",
       "      <th>Died</th>\n",
       "    </tr>\n",
       "  </thead>\n",
       "  <tbody>\n",
       "    <tr>\n",
       "      <th>Survive</th>\n",
       "      <td>82</td>\n",
       "      <td>31</td>\n",
       "    </tr>\n",
       "    <tr>\n",
       "      <th>Died</th>\n",
       "      <td>14</td>\n",
       "      <td>184</td>\n",
       "    </tr>\n",
       "  </tbody>\n",
       "</table>\n",
       "</div>"
      ],
      "text/plain": [
       "         Survive  Died\n",
       "Survive       82    31\n",
       "Died          14   184"
      ]
     },
     "execution_count": 82,
     "metadata": {},
     "output_type": "execute_result"
    }
   ],
   "source": [
    "cnft"
   ]
  },
  {
   "cell_type": "markdown",
   "metadata": {},
   "source": [
    "## Deployment\n",
    "\n",
    "### The above model will be deployed for test dataset. We will use model created for predicting the values for test data using entire train dataset."
   ]
  },
  {
   "cell_type": "code",
   "execution_count": 83,
   "metadata": {},
   "outputs": [
    {
     "name": "stdout",
     "output_type": "stream",
     "text": [
      "<class 'pandas.core.frame.DataFrame'>\n",
      "RangeIndex: 418 entries, 0 to 417\n",
      "Data columns (total 11 columns):\n",
      " #   Column       Non-Null Count  Dtype  \n",
      "---  ------       --------------  -----  \n",
      " 0   PassengerId  418 non-null    int64  \n",
      " 1   Pclass       418 non-null    int64  \n",
      " 2   Name         418 non-null    object \n",
      " 3   Sex          418 non-null    object \n",
      " 4   Age          332 non-null    float64\n",
      " 5   SibSp        418 non-null    int64  \n",
      " 6   Parch        418 non-null    int64  \n",
      " 7   Ticket       418 non-null    object \n",
      " 8   Fare         417 non-null    float64\n",
      " 9   Cabin        91 non-null     object \n",
      " 10  Embarked     418 non-null    object \n",
      "dtypes: float64(2), int64(4), object(5)\n",
      "memory usage: 36.0+ KB\n"
     ]
    }
   ],
   "source": [
    "df_titanic_test=pd.read_csv('test.csv') ##Test Dataset\n",
    "df_titanic_test.info()"
   ]
  },
  {
   "cell_type": "code",
   "execution_count": 84,
   "metadata": {},
   "outputs": [
    {
     "name": "stdout",
     "output_type": "stream",
     "text": [
      "Visualizations for Continuous Feature\n"
     ]
    },
    {
     "data": {
      "image/png": "[encoded data removed]",
      "text/plain": [
       "<Figure size 1080x2160 with 6 Axes>"
      ]
     },
     "metadata": {
      "needs_background": "light"
     },
     "output_type": "display_data"
    },
    {
     "name": "stdout",
     "output_type": "stream",
     "text": [
      "Data Quality Report of Continuous Feature\n"
     ]
    },
    {
     "data": {
      "text/html": [
       "<div>\n",
       "<style scoped>\n",
       "    .dataframe tbody tr th:only-of-type {\n",
       "        vertical-align: middle;\n",
       "    }\n",
       "\n",
       "    .dataframe tbody tr th {\n",
       "        vertical-align: top;\n",
       "    }\n",
       "\n",
       "    .dataframe thead th {\n",
       "        text-align: right;\n",
       "    }\n",
       "</style>\n",
       "<table border=\"1\" class=\"dataframe\">\n",
       "  <thead>\n",
       "    <tr style=\"text-align: right;\">\n",
       "      <th></th>\n",
       "      <th>PassengerId</th>\n",
       "      <th>Pclass</th>\n",
       "      <th>Age</th>\n",
       "      <th>SibSp</th>\n",
       "      <th>Parch</th>\n",
       "      <th>Fare</th>\n",
       "    </tr>\n",
       "  </thead>\n",
       "  <tbody>\n",
       "    <tr>\n",
       "      <th>count</th>\n",
       "      <td>418.000000</td>\n",
       "      <td>418.000000</td>\n",
       "      <td>332.000000</td>\n",
       "      <td>418.000000</td>\n",
       "      <td>418.000000</td>\n",
       "      <td>417.000000</td>\n",
       "    </tr>\n",
       "    <tr>\n",
       "      <th>mean</th>\n",
       "      <td>1100.500000</td>\n",
       "      <td>2.265550</td>\n",
       "      <td>30.272590</td>\n",
       "      <td>0.447368</td>\n",
       "      <td>0.392344</td>\n",
       "      <td>35.627188</td>\n",
       "    </tr>\n",
       "    <tr>\n",
       "      <th>std</th>\n",
       "      <td>120.810458</td>\n",
       "      <td>0.841838</td>\n",
       "      <td>14.181209</td>\n",
       "      <td>0.896760</td>\n",
       "      <td>0.981429</td>\n",
       "      <td>55.907576</td>\n",
       "    </tr>\n",
       "    <tr>\n",
       "      <th>min</th>\n",
       "      <td>892.000000</td>\n",
       "      <td>1.000000</td>\n",
       "      <td>0.170000</td>\n",
       "      <td>0.000000</td>\n",
       "      <td>0.000000</td>\n",
       "      <td>0.000000</td>\n",
       "    </tr>\n",
       "    <tr>\n",
       "      <th>25%</th>\n",
       "      <td>996.250000</td>\n",
       "      <td>1.000000</td>\n",
       "      <td>21.000000</td>\n",
       "      <td>0.000000</td>\n",
       "      <td>0.000000</td>\n",
       "      <td>7.895800</td>\n",
       "    </tr>\n",
       "    <tr>\n",
       "      <th>50%</th>\n",
       "      <td>1100.500000</td>\n",
       "      <td>3.000000</td>\n",
       "      <td>27.000000</td>\n",
       "      <td>0.000000</td>\n",
       "      <td>0.000000</td>\n",
       "      <td>14.454200</td>\n",
       "    </tr>\n",
       "    <tr>\n",
       "      <th>75%</th>\n",
       "      <td>1204.750000</td>\n",
       "      <td>3.000000</td>\n",
       "      <td>39.000000</td>\n",
       "      <td>1.000000</td>\n",
       "      <td>0.000000</td>\n",
       "      <td>31.500000</td>\n",
       "    </tr>\n",
       "    <tr>\n",
       "      <th>max</th>\n",
       "      <td>1309.000000</td>\n",
       "      <td>3.000000</td>\n",
       "      <td>76.000000</td>\n",
       "      <td>8.000000</td>\n",
       "      <td>9.000000</td>\n",
       "      <td>512.329200</td>\n",
       "    </tr>\n",
       "    <tr>\n",
       "      <th>Median</th>\n",
       "      <td>1100.500000</td>\n",
       "      <td>3.000000</td>\n",
       "      <td>NaN</td>\n",
       "      <td>0.000000</td>\n",
       "      <td>0.000000</td>\n",
       "      <td>NaN</td>\n",
       "    </tr>\n",
       "    <tr>\n",
       "      <th>% Miss</th>\n",
       "      <td>0.000000</td>\n",
       "      <td>0.000000</td>\n",
       "      <td>20.574163</td>\n",
       "      <td>0.000000</td>\n",
       "      <td>0.000000</td>\n",
       "      <td>0.239234</td>\n",
       "    </tr>\n",
       "    <tr>\n",
       "      <th>Cardinality</th>\n",
       "      <td>418.000000</td>\n",
       "      <td>3.000000</td>\n",
       "      <td>79.000000</td>\n",
       "      <td>7.000000</td>\n",
       "      <td>8.000000</td>\n",
       "      <td>169.000000</td>\n",
       "    </tr>\n",
       "  </tbody>\n",
       "</table>\n",
       "</div>"
      ],
      "text/plain": [
       "             PassengerId      Pclass         Age       SibSp       Parch  \\\n",
       "count         418.000000  418.000000  332.000000  418.000000  418.000000   \n",
       "mean         1100.500000    2.265550   30.272590    0.447368    0.392344   \n",
       "std           120.810458    0.841838   14.181209    0.896760    0.981429   \n",
       "min           892.000000    1.000000    0.170000    0.000000    0.000000   \n",
       "25%           996.250000    1.000000   21.000000    0.000000    0.000000   \n",
       "50%          1100.500000    3.000000   27.000000    0.000000    0.000000   \n",
       "75%          1204.750000    3.000000   39.000000    1.000000    0.000000   \n",
       "max          1309.000000    3.000000   76.000000    8.000000    9.000000   \n",
       "Median       1100.500000    3.000000         NaN    0.000000    0.000000   \n",
       "% Miss          0.000000    0.000000   20.574163    0.000000    0.000000   \n",
       "Cardinality   418.000000    3.000000   79.000000    7.000000    8.000000   \n",
       "\n",
       "                   Fare  \n",
       "count        417.000000  \n",
       "mean          35.627188  \n",
       "std           55.907576  \n",
       "min            0.000000  \n",
       "25%            7.895800  \n",
       "50%           14.454200  \n",
       "75%           31.500000  \n",
       "max          512.329200  \n",
       "Median              NaN  \n",
       "% Miss         0.239234  \n",
       "Cardinality  169.000000  "
      ]
     },
     "execution_count": 84,
     "metadata": {},
     "output_type": "execute_result"
    }
   ],
   "source": [
    "cont_data_quality_report(df_titanic_test)"
   ]
  },
  {
   "cell_type": "code",
   "execution_count": 85,
   "metadata": {},
   "outputs": [
    {
     "name": "stdout",
     "output_type": "stream",
     "text": [
      "Visualizations for Categorical Feature\n"
     ]
    },
    {
     "data": {
      "image/png": "[encoded data removed]",
      "text/plain": [
       "<Figure size 1080x2160 with 2 Axes>"
      ]
     },
     "metadata": {
      "needs_background": "light"
     },
     "output_type": "display_data"
    },
    {
     "data": {
      "text/html": [
       "<div>\n",
       "<style scoped>\n",
       "    .dataframe tbody tr th:only-of-type {\n",
       "        vertical-align: middle;\n",
       "    }\n",
       "\n",
       "    .dataframe tbody tr th {\n",
       "        vertical-align: top;\n",
       "    }\n",
       "\n",
       "    .dataframe thead th {\n",
       "        text-align: right;\n",
       "    }\n",
       "</style>\n",
       "<table border=\"1\" class=\"dataframe\">\n",
       "  <thead>\n",
       "    <tr style=\"text-align: right;\">\n",
       "      <th></th>\n",
       "      <th>Name</th>\n",
       "      <th>Sex</th>\n",
       "      <th>Ticket</th>\n",
       "      <th>Cabin</th>\n",
       "      <th>Embarked</th>\n",
       "    </tr>\n",
       "  </thead>\n",
       "  <tbody>\n",
       "    <tr>\n",
       "      <th>Count</th>\n",
       "      <td>418</td>\n",
       "      <td>418</td>\n",
       "      <td>418</td>\n",
       "      <td>418</td>\n",
       "      <td>418</td>\n",
       "    </tr>\n",
       "    <tr>\n",
       "      <th>% Miss</th>\n",
       "      <td>0</td>\n",
       "      <td>0</td>\n",
       "      <td>0</td>\n",
       "      <td>78.2297</td>\n",
       "      <td>0</td>\n",
       "    </tr>\n",
       "    <tr>\n",
       "      <th>Cardinality</th>\n",
       "      <td>418</td>\n",
       "      <td>2</td>\n",
       "      <td>363</td>\n",
       "      <td>76</td>\n",
       "      <td>3</td>\n",
       "    </tr>\n",
       "    <tr>\n",
       "      <th>Mode</th>\n",
       "      <td>Hagardon, Miss. Kate</td>\n",
       "      <td>male</td>\n",
       "      <td>PC 17608</td>\n",
       "      <td>B57 B59 B63 B66</td>\n",
       "      <td>S</td>\n",
       "    </tr>\n",
       "    <tr>\n",
       "      <th>Mode Freq.</th>\n",
       "      <td>1</td>\n",
       "      <td>266</td>\n",
       "      <td>5</td>\n",
       "      <td>3</td>\n",
       "      <td>270</td>\n",
       "    </tr>\n",
       "    <tr>\n",
       "      <th>Mode %</th>\n",
       "      <td>0.239234</td>\n",
       "      <td>63.6364</td>\n",
       "      <td>1.19617</td>\n",
       "      <td>3.2967</td>\n",
       "      <td>64.5933</td>\n",
       "    </tr>\n",
       "    <tr>\n",
       "      <th>2nd Mode</th>\n",
       "      <td>Peacock, Mrs. Benjamin (Edith Nile)</td>\n",
       "      <td>female</td>\n",
       "      <td>CA. 2343</td>\n",
       "      <td>C101</td>\n",
       "      <td>C</td>\n",
       "    </tr>\n",
       "    <tr>\n",
       "      <th>2nd Mode Freq.</th>\n",
       "      <td>1</td>\n",
       "      <td>152</td>\n",
       "      <td>4</td>\n",
       "      <td>2</td>\n",
       "      <td>102</td>\n",
       "    </tr>\n",
       "    <tr>\n",
       "      <th>2nd Mode %</th>\n",
       "      <td>0.239234</td>\n",
       "      <td>36.3636</td>\n",
       "      <td>0.956938</td>\n",
       "      <td>2.1978</td>\n",
       "      <td>24.4019</td>\n",
       "    </tr>\n",
       "  </tbody>\n",
       "</table>\n",
       "</div>"
      ],
      "text/plain": [
       "                                               Name      Sex    Ticket  \\\n",
       "Count                                           418      418       418   \n",
       "% Miss                                            0        0         0   \n",
       "Cardinality                                     418        2       363   \n",
       "Mode                           Hagardon, Miss. Kate     male  PC 17608   \n",
       "Mode Freq.                                        1      266         5   \n",
       "Mode %                                     0.239234  63.6364   1.19617   \n",
       "2nd Mode        Peacock, Mrs. Benjamin (Edith Nile)   female  CA. 2343   \n",
       "2nd Mode Freq.                                    1      152         4   \n",
       "2nd Mode %                                 0.239234  36.3636  0.956938   \n",
       "\n",
       "                          Cabin Embarked  \n",
       "Count                       418      418  \n",
       "% Miss                  78.2297        0  \n",
       "Cardinality                  76        3  \n",
       "Mode            B57 B59 B63 B66        S  \n",
       "Mode Freq.                    3      270  \n",
       "Mode %                   3.2967  64.5933  \n",
       "2nd Mode                   C101        C  \n",
       "2nd Mode Freq.                2      102  \n",
       "2nd Mode %               2.1978  24.4019  "
      ]
     },
     "execution_count": 85,
     "metadata": {},
     "output_type": "execute_result"
    }
   ],
   "source": [
    "cat_data_quality_report(df_titanic_test)"
   ]
  },
  {
   "cell_type": "markdown",
   "metadata": {},
   "source": [
    "### Looking at the data below columns have null values in Test dataset:\n",
    "\n",
    "- Age\n",
    "- Cabin\n",
    "- Fare"
   ]
  },
  {
   "cell_type": "code",
   "execution_count": 86,
   "metadata": {},
   "outputs": [
    {
     "name": "stdout",
     "output_type": "stream",
     "text": [
      "Missing Values in Testing dataset:\n",
      "\n",
      "Missing Values in Age : 86\n",
      "% of missing values: 20.57 %\n",
      "\n",
      "-------------\n",
      "\n",
      "Missing Values in Fare : 1\n",
      "% of missing values: 0.24 %\n",
      "\n",
      "-------------\n",
      "\n",
      "Missing Values in Cabin : 327\n",
      "% of missing values: 78.23 %\n",
      "\n",
      "-------------\n",
      "\n"
     ]
    }
   ],
   "source": [
    "nulls_column_test=df_titanic_test.isnull().any() #Get columns with any null values in the Test dataset\n",
    "\n",
    "# Code to give counts for columns with null compared to total count of dataframe\n",
    "total_rows=418\n",
    "print(\"Missing Values in Testing dataset:\\n\")\n",
    "for items in nulls_column_test.iteritems(): \n",
    "    if items[1]:\n",
    "        col=items[0]\n",
    "        cnt=df_titanic_test[col].isnull().sum()\n",
    "        missing_Percentage=(cnt/total_rows)*100\n",
    "        print(\"Missing Values in\", col,\":\",cnt)\n",
    "       \n",
    "        print(\"% of missing values:\",round(missing_Percentage,2),\"%\")\n",
    "        print()\n",
    "        print('-------------')\n",
    "        print()"
   ]
  },
  {
   "cell_type": "markdown",
   "metadata": {},
   "source": [
    "## Data Preparation of test data"
   ]
  },
  {
   "cell_type": "code",
   "execution_count": 87,
   "metadata": {},
   "outputs": [
    {
     "data": {
      "text/plain": [
       "count    332.000000\n",
       "mean      30.272590\n",
       "std       14.181209\n",
       "min        0.170000\n",
       "25%       21.000000\n",
       "50%       27.000000\n",
       "75%       39.000000\n",
       "max       76.000000\n",
       "Name: Age, dtype: float64"
      ]
     },
     "execution_count": 87,
     "metadata": {},
     "output_type": "execute_result"
    }
   ],
   "source": [
    "#Age Distribution before imputation:\n",
    "df_titanic_test['Age'].describe()"
   ]
  },
  {
   "cell_type": "code",
   "execution_count": 88,
   "metadata": {},
   "outputs": [
    {
     "data": {
      "text/plain": [
       "<matplotlib.axes._subplots.AxesSubplot at 0x2b43507af40>"
      ]
     },
     "execution_count": 88,
     "metadata": {},
     "output_type": "execute_result"
    },
    {
     "data": {
      "image/png": "[encoded data removed]",
      "text/plain": [
       "<Figure size 432x288 with 1 Axes>"
      ]
     },
     "metadata": {
      "needs_background": "light"
     },
     "output_type": "display_data"
    }
   ],
   "source": [
    "sns.distplot(df_titanic_test['Age'],color='y')"
   ]
  },
  {
   "cell_type": "markdown",
   "metadata": {},
   "source": [
    "### Imputation with random values generated between mean and 0.5 standard deviation of mean, value of Age Column"
   ]
  },
  {
   "cell_type": "code",
   "execution_count": 89,
   "metadata": {},
   "outputs": [],
   "source": [
    "mean = df_titanic_test[\"Age\"].mean()\n",
    "std = df_titanic_test[\"Age\"].std()\n",
    "is_null = df_titanic_test[\"Age\"].isnull().sum()\n",
    "# compute random numbers between the mean, std for missing age values\n",
    "random_age = np.random.randint(mean - (0.5*std), mean + (0.5*std), size = is_null)\n",
    "df_titanic_test.loc[df_titanic_test[\"Age\"].isnull(),'Age']=random_age"
   ]
  },
  {
   "cell_type": "code",
   "execution_count": 90,
   "metadata": {},
   "outputs": [
    {
     "data": {
      "text/plain": [
       "0"
      ]
     },
     "execution_count": 90,
     "metadata": {},
     "output_type": "execute_result"
    }
   ],
   "source": [
    "df_titanic_test[\"Age\"].isnull().sum()"
   ]
  },
  {
   "cell_type": "code",
   "execution_count": 91,
   "metadata": {},
   "outputs": [
    {
     "data": {
      "text/plain": [
       "count    418.000000\n",
       "mean      30.245215\n",
       "std       12.754822\n",
       "min        0.170000\n",
       "25%       23.000000\n",
       "50%       29.000000\n",
       "75%       36.000000\n",
       "max       76.000000\n",
       "Name: Age, dtype: float64"
      ]
     },
     "execution_count": 91,
     "metadata": {},
     "output_type": "execute_result"
    }
   ],
   "source": [
    "df_titanic_test['Age'].describe()"
   ]
  },
  {
   "cell_type": "code",
   "execution_count": 92,
   "metadata": {},
   "outputs": [
    {
     "data": {
      "text/plain": [
       "<matplotlib.axes._subplots.AxesSubplot at 0x2b434cb67f0>"
      ]
     },
     "execution_count": 92,
     "metadata": {},
     "output_type": "execute_result"
    },
    {
     "data": {
      "image/png": "[encoded data removed]",
      "text/plain": [
       "<Figure size 432x288 with 1 Axes>"
      ]
     },
     "metadata": {
      "needs_background": "light"
     },
     "output_type": "display_data"
    }
   ],
   "source": [
    "sns.distplot(df_titanic_test['Age'],color='y')"
   ]
  },
  {
   "cell_type": "markdown",
   "metadata": {},
   "source": [
    "### From Both pre and post imputation in Testing dataset with 0.5 std from mean, we can see  statistical measures are not impacted much. \n",
    "Hence our imputation does not impact feature distribution"
   ]
  },
  {
   "cell_type": "markdown",
   "metadata": {},
   "source": [
    "### Fare Missing Values"
   ]
  },
  {
   "cell_type": "code",
   "execution_count": 93,
   "metadata": {},
   "outputs": [
    {
     "data": {
      "text/html": [
       "<div>\n",
       "<style scoped>\n",
       "    .dataframe tbody tr th:only-of-type {\n",
       "        vertical-align: middle;\n",
       "    }\n",
       "\n",
       "    .dataframe tbody tr th {\n",
       "        vertical-align: top;\n",
       "    }\n",
       "\n",
       "    .dataframe thead th {\n",
       "        text-align: right;\n",
       "    }\n",
       "</style>\n",
       "<table border=\"1\" class=\"dataframe\">\n",
       "  <thead>\n",
       "    <tr style=\"text-align: right;\">\n",
       "      <th></th>\n",
       "      <th>PassengerId</th>\n",
       "      <th>Pclass</th>\n",
       "      <th>Name</th>\n",
       "      <th>Sex</th>\n",
       "      <th>Age</th>\n",
       "      <th>SibSp</th>\n",
       "      <th>Parch</th>\n",
       "      <th>Ticket</th>\n",
       "      <th>Fare</th>\n",
       "      <th>Cabin</th>\n",
       "      <th>Embarked</th>\n",
       "    </tr>\n",
       "  </thead>\n",
       "  <tbody>\n",
       "    <tr>\n",
       "      <th>152</th>\n",
       "      <td>1044</td>\n",
       "      <td>3</td>\n",
       "      <td>Storey, Mr. Thomas</td>\n",
       "      <td>male</td>\n",
       "      <td>60.5</td>\n",
       "      <td>0</td>\n",
       "      <td>0</td>\n",
       "      <td>3701</td>\n",
       "      <td>NaN</td>\n",
       "      <td>NaN</td>\n",
       "      <td>S</td>\n",
       "    </tr>\n",
       "  </tbody>\n",
       "</table>\n",
       "</div>"
      ],
      "text/plain": [
       "     PassengerId  Pclass                Name   Sex   Age  SibSp  Parch Ticket  \\\n",
       "152         1044       3  Storey, Mr. Thomas  male  60.5      0      0   3701   \n",
       "\n",
       "     Fare Cabin Embarked  \n",
       "152   NaN   NaN        S  "
      ]
     },
     "execution_count": 93,
     "metadata": {},
     "output_type": "execute_result"
    }
   ],
   "source": [
    "df_titanic_test[df_titanic_test['Fare'].isnull()]"
   ]
  },
  {
   "cell_type": "code",
   "execution_count": 94,
   "metadata": {},
   "outputs": [
    {
     "data": {
      "text/html": [
       "<div>\n",
       "<style scoped>\n",
       "    .dataframe tbody tr th:only-of-type {\n",
       "        vertical-align: middle;\n",
       "    }\n",
       "\n",
       "    .dataframe tbody tr th {\n",
       "        vertical-align: top;\n",
       "    }\n",
       "\n",
       "    .dataframe thead th {\n",
       "        text-align: right;\n",
       "    }\n",
       "</style>\n",
       "<table border=\"1\" class=\"dataframe\">\n",
       "  <thead>\n",
       "    <tr style=\"text-align: right;\">\n",
       "      <th></th>\n",
       "      <th>PassengerId</th>\n",
       "      <th>Pclass</th>\n",
       "      <th>Name</th>\n",
       "      <th>Sex</th>\n",
       "      <th>Age</th>\n",
       "      <th>SibSp</th>\n",
       "      <th>Parch</th>\n",
       "      <th>Ticket</th>\n",
       "      <th>Fare</th>\n",
       "      <th>Cabin</th>\n",
       "      <th>Embarked</th>\n",
       "    </tr>\n",
       "  </thead>\n",
       "  <tbody>\n",
       "    <tr>\n",
       "      <th>0</th>\n",
       "      <td>892</td>\n",
       "      <td>3</td>\n",
       "      <td>Kelly, Mr. James</td>\n",
       "      <td>male</td>\n",
       "      <td>34.5</td>\n",
       "      <td>0</td>\n",
       "      <td>0</td>\n",
       "      <td>330911</td>\n",
       "      <td>7.8292</td>\n",
       "      <td>NaN</td>\n",
       "      <td>Q</td>\n",
       "    </tr>\n",
       "    <tr>\n",
       "      <th>1</th>\n",
       "      <td>893</td>\n",
       "      <td>3</td>\n",
       "      <td>Wilkes, Mrs. James (Ellen Needs)</td>\n",
       "      <td>female</td>\n",
       "      <td>47.0</td>\n",
       "      <td>1</td>\n",
       "      <td>0</td>\n",
       "      <td>363272</td>\n",
       "      <td>7.0000</td>\n",
       "      <td>NaN</td>\n",
       "      <td>S</td>\n",
       "    </tr>\n",
       "    <tr>\n",
       "      <th>3</th>\n",
       "      <td>895</td>\n",
       "      <td>3</td>\n",
       "      <td>Wirz, Mr. Albert</td>\n",
       "      <td>male</td>\n",
       "      <td>27.0</td>\n",
       "      <td>0</td>\n",
       "      <td>0</td>\n",
       "      <td>315154</td>\n",
       "      <td>8.6625</td>\n",
       "      <td>NaN</td>\n",
       "      <td>S</td>\n",
       "    </tr>\n",
       "    <tr>\n",
       "      <th>4</th>\n",
       "      <td>896</td>\n",
       "      <td>3</td>\n",
       "      <td>Hirvonen, Mrs. Alexander (Helga E Lindqvist)</td>\n",
       "      <td>female</td>\n",
       "      <td>22.0</td>\n",
       "      <td>1</td>\n",
       "      <td>1</td>\n",
       "      <td>3101298</td>\n",
       "      <td>12.2875</td>\n",
       "      <td>NaN</td>\n",
       "      <td>S</td>\n",
       "    </tr>\n",
       "    <tr>\n",
       "      <th>5</th>\n",
       "      <td>897</td>\n",
       "      <td>3</td>\n",
       "      <td>Svensson, Mr. Johan Cervin</td>\n",
       "      <td>male</td>\n",
       "      <td>14.0</td>\n",
       "      <td>0</td>\n",
       "      <td>0</td>\n",
       "      <td>7538</td>\n",
       "      <td>9.2250</td>\n",
       "      <td>NaN</td>\n",
       "      <td>S</td>\n",
       "    </tr>\n",
       "  </tbody>\n",
       "</table>\n",
       "</div>"
      ],
      "text/plain": [
       "   PassengerId  Pclass                                          Name     Sex  \\\n",
       "0          892       3                              Kelly, Mr. James    male   \n",
       "1          893       3              Wilkes, Mrs. James (Ellen Needs)  female   \n",
       "3          895       3                              Wirz, Mr. Albert    male   \n",
       "4          896       3  Hirvonen, Mrs. Alexander (Helga E Lindqvist)  female   \n",
       "5          897       3                    Svensson, Mr. Johan Cervin    male   \n",
       "\n",
       "    Age  SibSp  Parch   Ticket     Fare Cabin Embarked  \n",
       "0  34.5      0      0   330911   7.8292   NaN        Q  \n",
       "1  47.0      1      0   363272   7.0000   NaN        S  \n",
       "3  27.0      0      0   315154   8.6625   NaN        S  \n",
       "4  22.0      1      1  3101298  12.2875   NaN        S  \n",
       "5  14.0      0      0     7538   9.2250   NaN        S  "
      ]
     },
     "execution_count": 94,
     "metadata": {},
     "output_type": "execute_result"
    }
   ],
   "source": [
    "## We can see this passenger is class 3 and is travelling alone , Hence we will impute it with Fare of single Class 3 passenger\n",
    "df_titanic_test[df_titanic_test['Pclass']==3].head(5)"
   ]
  },
  {
   "cell_type": "code",
   "execution_count": 95,
   "metadata": {},
   "outputs": [],
   "source": [
    "## We will Impute fare with median Fare of passengers who embarked from same port \"S\" and were in class 3 and were alone and were male"
   ]
  },
  {
   "cell_type": "code",
   "execution_count": 96,
   "metadata": {},
   "outputs": [],
   "source": [
    "Fares=df_titanic_test['Fare'][(df_titanic_test[\"Pclass\"]==3) & (df_titanic_test[\"Embarked\"]=='S') & (df_titanic_test['SibSp']==0) \n",
    "                & (df_titanic_test['Parch']==0) & (df_titanic_test['Sex']=='male') ]"
   ]
  },
  {
   "cell_type": "code",
   "execution_count": 97,
   "metadata": {},
   "outputs": [],
   "source": [
    "median_fares = Fares.median()"
   ]
  },
  {
   "cell_type": "code",
   "execution_count": 98,
   "metadata": {},
   "outputs": [],
   "source": [
    "df_titanic_test['Fare'].fillna(median_fares,inplace=True)"
   ]
  },
  {
   "cell_type": "code",
   "execution_count": 99,
   "metadata": {},
   "outputs": [
    {
     "data": {
      "text/plain": [
       "<matplotlib.axes._subplots.AxesSubplot at 0x2b43510ee50>"
      ]
     },
     "execution_count": 99,
     "metadata": {},
     "output_type": "execute_result"
    },
    {
     "data": {
      "image/png": "[encoded data removed]",
      "text/plain": [
       "<Figure size 432x288 with 1 Axes>"
      ]
     },
     "metadata": {
      "needs_background": "light"
     },
     "output_type": "display_data"
    }
   ],
   "source": [
    "sns.distplot(df_titanic_test['Fare'],color='y')"
   ]
  },
  {
   "cell_type": "code",
   "execution_count": 100,
   "metadata": {},
   "outputs": [],
   "source": [
    "## Hence no impact on distribution of Fare after imputation"
   ]
  },
  {
   "cell_type": "markdown",
   "metadata": {},
   "source": [
    "## Feature Engineering"
   ]
  },
  {
   "cell_type": "code",
   "execution_count": 101,
   "metadata": {},
   "outputs": [
    {
     "data": {
      "text/plain": [
       "Mr        240\n",
       "Miss       78\n",
       "Mrs        72\n",
       "Master     21\n",
       "Rev         2\n",
       "Col         2\n",
       "Dona        1\n",
       "Ms          1\n",
       "Dr          1\n",
       "Name: Prefix, dtype: int64"
      ]
     },
     "execution_count": 101,
     "metadata": {},
     "output_type": "execute_result"
    }
   ],
   "source": [
    "df_titanic_test['Prefix']=df_titanic_test['Name'].apply(get_title)\n",
    "df_titanic_test['Prefix'].value_counts()"
   ]
  },
  {
   "cell_type": "code",
   "execution_count": 102,
   "metadata": {},
   "outputs": [
    {
     "data": {
      "text/html": [
       "<div>\n",
       "<style scoped>\n",
       "    .dataframe tbody tr th:only-of-type {\n",
       "        vertical-align: middle;\n",
       "    }\n",
       "\n",
       "    .dataframe tbody tr th {\n",
       "        vertical-align: top;\n",
       "    }\n",
       "\n",
       "    .dataframe thead th {\n",
       "        text-align: right;\n",
       "    }\n",
       "</style>\n",
       "<table border=\"1\" class=\"dataframe\">\n",
       "  <thead>\n",
       "    <tr style=\"text-align: right;\">\n",
       "      <th></th>\n",
       "      <th>PassengerId</th>\n",
       "      <th>Pclass</th>\n",
       "      <th>Name</th>\n",
       "      <th>Sex</th>\n",
       "      <th>Age</th>\n",
       "      <th>SibSp</th>\n",
       "      <th>Parch</th>\n",
       "      <th>Ticket</th>\n",
       "      <th>Fare</th>\n",
       "      <th>Cabin</th>\n",
       "      <th>Embarked</th>\n",
       "      <th>Prefix</th>\n",
       "    </tr>\n",
       "  </thead>\n",
       "  <tbody>\n",
       "    <tr>\n",
       "      <th>414</th>\n",
       "      <td>1306</td>\n",
       "      <td>1</td>\n",
       "      <td>Oliva y Ocana, Dona. Fermina</td>\n",
       "      <td>female</td>\n",
       "      <td>39.0</td>\n",
       "      <td>0</td>\n",
       "      <td>0</td>\n",
       "      <td>PC 17758</td>\n",
       "      <td>108.9</td>\n",
       "      <td>C105</td>\n",
       "      <td>C</td>\n",
       "      <td>Dona</td>\n",
       "    </tr>\n",
       "  </tbody>\n",
       "</table>\n",
       "</div>"
      ],
      "text/plain": [
       "     PassengerId  Pclass                          Name     Sex   Age  SibSp  \\\n",
       "414         1306       1  Oliva y Ocana, Dona. Fermina  female  39.0      0   \n",
       "\n",
       "     Parch    Ticket   Fare Cabin Embarked Prefix  \n",
       "414      0  PC 17758  108.9  C105        C   Dona  "
      ]
     },
     "execution_count": 102,
     "metadata": {},
     "output_type": "execute_result"
    }
   ],
   "source": [
    "df_titanic_test[df_titanic_test['Prefix']=='Dona']"
   ]
  },
  {
   "cell_type": "code",
   "execution_count": 103,
   "metadata": {},
   "outputs": [],
   "source": [
    "def Prefix_Group(row):\n",
    "    if row.lower() in ['miss','ms','mlle','mme','mrs','dona']:\n",
    "        return \"Madam\"\n",
    "    elif row.lower() in ['lady','jonkheer','sir']:\n",
    "        return \"elite\"\n",
    "    elif row.lower() in ['col','capt','major']:\n",
    "        return \"army\"\n",
    "    elif row.lower() in ['mr','don']:\n",
    "         return \"Mr\"\n",
    "    elif row.lower() == 'the':\n",
    "        return 'elite'\n",
    "    else:\n",
    "        return row\n",
    "                         "
   ]
  },
  {
   "cell_type": "code",
   "execution_count": 104,
   "metadata": {},
   "outputs": [],
   "source": [
    "df_titanic_test['Prefix_Group']=df_titanic_test.Prefix.apply(Prefix_Group)"
   ]
  },
  {
   "cell_type": "code",
   "execution_count": 105,
   "metadata": {},
   "outputs": [
    {
     "data": {
      "text/plain": [
       "Mr        240\n",
       "Madam     152\n",
       "Master     21\n",
       "Rev         2\n",
       "army        2\n",
       "Dr          1\n",
       "Name: Prefix_Group, dtype: int64"
      ]
     },
     "execution_count": 105,
     "metadata": {},
     "output_type": "execute_result"
    }
   ],
   "source": [
    "df_titanic_test.Prefix_Group.value_counts()"
   ]
  },
  {
   "cell_type": "code",
   "execution_count": 106,
   "metadata": {},
   "outputs": [],
   "source": [
    "#Lets use class to calculate deck associated with cabin. Cabin number is combination of Deck and number. Decks are associated with each class.\n",
    "df_titanic_test['Deck']=df_titanic_test['Cabin'].str[0]"
   ]
  },
  {
   "cell_type": "code",
   "execution_count": 107,
   "metadata": {},
   "outputs": [
    {
     "data": {
      "text/plain": [
       "C    35\n",
       "B    18\n",
       "D    13\n",
       "E     9\n",
       "F     8\n",
       "A     7\n",
       "G     1\n",
       "Name: Deck, dtype: int64"
      ]
     },
     "execution_count": 107,
     "metadata": {},
     "output_type": "execute_result"
    }
   ],
   "source": [
    "df_titanic_test['Deck'].value_counts()"
   ]
  },
  {
   "cell_type": "code",
   "execution_count": 108,
   "metadata": {},
   "outputs": [],
   "source": [
    "#Replace nulls with 'U' in deck\n",
    "df_titanic_test['Deck'].fillna('U',inplace=True)"
   ]
  },
  {
   "cell_type": "code",
   "execution_count": 109,
   "metadata": {},
   "outputs": [
    {
     "data": {
      "text/plain": [
       "0     253\n",
       "1      74\n",
       "2      57\n",
       "3      14\n",
       "4       7\n",
       "10      4\n",
       "6       4\n",
       "5       3\n",
       "7       2\n",
       "Name: Travelling_with, dtype: int64"
      ]
     },
     "execution_count": 109,
     "metadata": {},
     "output_type": "execute_result"
    }
   ],
   "source": [
    "df_titanic_test[\"Travelling_with\"]=df_titanic_test['SibSp']+df_titanic_test['Parch']\n",
    "df_titanic_test[\"Travelling_with\"].value_counts()"
   ]
  },
  {
   "cell_type": "code",
   "execution_count": 110,
   "metadata": {},
   "outputs": [],
   "source": [
    "df_titanic_test[\"Family_Group\"]=df_titanic_test[\"Travelling_with\"].apply(family_group)"
   ]
  },
  {
   "cell_type": "code",
   "execution_count": 111,
   "metadata": {},
   "outputs": [
    {
     "data": {
      "text/plain": [
       "alone           253\n",
       "small_group     145\n",
       "medium_group     14\n",
       "large_group       6\n",
       "Name: Family_Group, dtype: int64"
      ]
     },
     "execution_count": 111,
     "metadata": {},
     "output_type": "execute_result"
    }
   ],
   "source": [
    "df_titanic_test.Family_Group.value_counts()"
   ]
  },
  {
   "cell_type": "code",
   "execution_count": 112,
   "metadata": {},
   "outputs": [],
   "source": [
    "df_titanic_test[\"Age_Group\"]=df_titanic_test[\"Age\"].apply(Age_Group)"
   ]
  },
  {
   "cell_type": "code",
   "execution_count": 113,
   "metadata": {},
   "outputs": [
    {
     "data": {
      "text/plain": [
       "adults          276\n",
       "middle-aged1     58\n",
       "middle-aged2     41\n",
       "minor            32\n",
       "senior           11\n",
       "Name: Age_Group, dtype: int64"
      ]
     },
     "execution_count": 113,
     "metadata": {},
     "output_type": "execute_result"
    }
   ],
   "source": [
    "df_titanic_test.Age_Group.value_counts()"
   ]
  },
  {
   "cell_type": "markdown",
   "metadata": {},
   "source": [
    "### Converting Test Categorical Features to Numerical categories for Model\n",
    "\n",
    "#### Sex"
   ]
  },
  {
   "cell_type": "code",
   "execution_count": 114,
   "metadata": {},
   "outputs": [],
   "source": [
    "df_titanic_test.loc[df_titanic_test['Sex']=='male', ['Sex']] = 0\n",
    "df_titanic_test.loc[df_titanic_test['Sex']=='female', ['Sex']] = 1\n",
    "df_titanic_test['Sex']=df_titanic_test.Sex.astype(str).astype(int)"
   ]
  },
  {
   "cell_type": "markdown",
   "metadata": {},
   "source": [
    "#### Embarked"
   ]
  },
  {
   "cell_type": "code",
   "execution_count": 115,
   "metadata": {},
   "outputs": [],
   "source": [
    "df_titanic_test.loc[df_titanic_test['Embarked']=='S', ['Embarked']] = 2\n",
    "df_titanic_test.loc[df_titanic_test['Embarked']=='C', ['Embarked']] = 1\n",
    "df_titanic_test.loc[df_titanic_test['Embarked']=='Q', ['Embarked']] = 0\n",
    "df_titanic_test['Embarked']=df_titanic_test.Embarked.astype(str).astype(int)"
   ]
  },
  {
   "cell_type": "markdown",
   "metadata": {},
   "source": [
    "#### Family_Group"
   ]
  },
  {
   "cell_type": "code",
   "execution_count": 116,
   "metadata": {},
   "outputs": [],
   "source": [
    "df_titanic_test.loc[df_titanic_test['Family_Group']=='alone', ['Family_Group']] = 0\n",
    "df_titanic_test.loc[df_titanic_test['Family_Group']=='small_group', ['Family_Group']] = 1\n",
    "df_titanic_test.loc[df_titanic_test['Family_Group']=='medium_group', ['Family_Group']] = 2\n",
    "df_titanic_test.loc[df_titanic_test['Family_Group']=='large_group', ['Family_Group']] = 3\n",
    "\n",
    "df_titanic_test['Family_Group']=df_titanic_test.Family_Group.astype(str).astype(int)"
   ]
  },
  {
   "cell_type": "markdown",
   "metadata": {},
   "source": [
    "#### Age_Group"
   ]
  },
  {
   "cell_type": "code",
   "execution_count": 117,
   "metadata": {},
   "outputs": [],
   "source": [
    "df_titanic_test.loc[df_titanic_test['Age_Group']=='minor', ['Age_Group']] = 0\n",
    "df_titanic_test.loc[df_titanic_test['Age_Group']=='adults', ['Age_Group']] = 1\n",
    "df_titanic_test.loc[df_titanic_test['Age_Group']=='middle-aged1', ['Age_Group']] = 2\n",
    "df_titanic_test.loc[df_titanic_test['Age_Group']=='middle-aged2', ['Age_Group']] = 3\n",
    "df_titanic_test.loc[df_titanic_test['Age_Group']=='senior', ['Age_Group']] = 4\n",
    "\n",
    "df_titanic_test['Age_Group']=df_titanic_test.Age_Group.astype(str).astype(int)"
   ]
  },
  {
   "cell_type": "markdown",
   "metadata": {},
   "source": [
    "#### Deck"
   ]
  },
  {
   "cell_type": "code",
   "execution_count": 118,
   "metadata": {},
   "outputs": [],
   "source": [
    "df_titanic_test.loc[df_titanic_test['Deck']=='A', ['Deck']] = 0\n",
    "df_titanic_test.loc[df_titanic_test['Deck']=='B', ['Deck']] = 1\n",
    "df_titanic_test.loc[df_titanic_test['Deck']=='C', ['Deck']] = 2\n",
    "df_titanic_test.loc[df_titanic_test['Deck']=='D', ['Deck']] = 3\n",
    "df_titanic_test.loc[df_titanic_test['Deck']=='E', ['Deck']] = 4\n",
    "df_titanic_test.loc[df_titanic_test['Deck']=='F', ['Deck']] = 5\n",
    "df_titanic_test.loc[df_titanic_test['Deck']=='G', ['Deck']] = 6\n",
    "df_titanic_test.loc[df_titanic_test['Deck']=='U', ['Deck']] = 7\n",
    "\n",
    "df_titanic_test['Deck']=df_titanic_test.Deck.astype(str).astype(int)"
   ]
  },
  {
   "cell_type": "markdown",
   "metadata": {},
   "source": [
    "#### Prefix Group"
   ]
  },
  {
   "cell_type": "code",
   "execution_count": 119,
   "metadata": {},
   "outputs": [],
   "source": [
    "df_titanic_test.loc[df_titanic_test['Prefix_Group']=='Mr', ['Prefix_Group']] = 0\n",
    "df_titanic_test.loc[df_titanic_test['Prefix_Group']=='Madam', ['Prefix_Group']] = 1\n",
    "df_titanic_test.loc[df_titanic_test['Prefix_Group']=='Master', ['Prefix_Group']] = 2\n",
    "df_titanic_test.loc[df_titanic_test['Prefix_Group']=='Rev', ['Prefix_Group']] = 3\n",
    "df_titanic_test.loc[df_titanic_test['Prefix_Group']=='Dr', ['Prefix_Group']] = 4\n",
    "df_titanic_test.loc[df_titanic_test['Prefix_Group']=='army', ['Prefix_Group']] = 5\n",
    "df_titanic_test.loc[df_titanic_test['Prefix_Group']=='elite', ['Prefix_Group']] = 6\n",
    "\n",
    "df_titanic_test['Prefix_Group']=df_titanic_test.Prefix_Group.astype(str).astype(int)"
   ]
  },
  {
   "cell_type": "code",
   "execution_count": 120,
   "metadata": {},
   "outputs": [],
   "source": [
    "Fare_New_test=np.array(df_titanic_test['Fare'])\n",
    "df_titanic_test['Fare']=rang_norm(Fare_New_test)"
   ]
  },
  {
   "cell_type": "code",
   "execution_count": 121,
   "metadata": {},
   "outputs": [
    {
     "data": {
      "text/plain": [
       "<matplotlib.axes._subplots.AxesSubplot at 0x2b434c31e50>"
      ]
     },
     "execution_count": 121,
     "metadata": {},
     "output_type": "execute_result"
    },
    {
     "data": {
      "image/png": "[encoded data removed]",
      "text/plain": [
       "<Figure size 432x288 with 2 Axes>"
      ]
     },
     "metadata": {
      "needs_background": "light"
     },
     "output_type": "display_data"
    }
   ],
   "source": [
    "# Compute correlation among the features and the response variable using selected features\n",
    "df_titanic_test_subset=df_titanic_test[['Pclass','Sex','Age','Fare','Embarked','Prefix_Group','Deck','Family_Group','Age_Group']]\n",
    "\n",
    "corr = df_titanic_test_subset.corr()\n",
    "sns.heatmap(corr, \n",
    "            xticklabels=corr.columns.values,\n",
    "            yticklabels=corr.columns.values,\n",
    "            annot = True, fmt='.1g', cmap= 'coolwarm')"
   ]
  },
  {
   "cell_type": "markdown",
   "metadata": {},
   "source": [
    "## Predictions of test data"
   ]
  },
  {
   "cell_type": "code",
   "execution_count": 122,
   "metadata": {},
   "outputs": [],
   "source": [
    "X_train=df_titanic_train[['Fare','Pclass','Sex','Embarked','Deck','Prefix_Group']] #Train dataset\n",
    "Y_train=df_titanic_train['Survived'] #labels from train dataset\n",
    "\n",
    "#test dataset\n",
    "X_test=df_titanic_test[['Fare','Pclass','Sex','Embarked','Deck','Prefix_Group']]"
   ]
  },
  {
   "cell_type": "code",
   "execution_count": 123,
   "metadata": {},
   "outputs": [],
   "source": [
    "#Convert dataframe to numpy arrays for model\n",
    "Y_train=np.array(Y_train)\n",
    "X_train=np.array(X_train)\n",
    "\n",
    "X_test=np.array(X_test)\n"
   ]
  },
  {
   "cell_type": "code",
   "execution_count": 124,
   "metadata": {},
   "outputs": [],
   "source": [
    "knn_model_test=Knn(X_train,Y_train,X_test,k=5) #k=5 was our best model in model validation\n",
    "y_test_pred=prediction(knn_model_test)"
   ]
  },
  {
   "cell_type": "code",
   "execution_count": 125,
   "metadata": {},
   "outputs": [],
   "source": [
    "Final_result=pd.DataFrame(df_titanic_test[\"PassengerId\"])"
   ]
  },
  {
   "cell_type": "code",
   "execution_count": 126,
   "metadata": {},
   "outputs": [],
   "source": [
    "Final_result['Survived']=y_test_pred"
   ]
  },
  {
   "cell_type": "code",
   "execution_count": 127,
   "metadata": {},
   "outputs": [
    {
     "data": {
      "text/html": [
       "<div>\n",
       "<style scoped>\n",
       "    .dataframe tbody tr th:only-of-type {\n",
       "        vertical-align: middle;\n",
       "    }\n",
       "\n",
       "    .dataframe tbody tr th {\n",
       "        vertical-align: top;\n",
       "    }\n",
       "\n",
       "    .dataframe thead th {\n",
       "        text-align: right;\n",
       "    }\n",
       "</style>\n",
       "<table border=\"1\" class=\"dataframe\">\n",
       "  <thead>\n",
       "    <tr style=\"text-align: right;\">\n",
       "      <th></th>\n",
       "      <th>PassengerId</th>\n",
       "      <th>Survived</th>\n",
       "    </tr>\n",
       "  </thead>\n",
       "  <tbody>\n",
       "    <tr>\n",
       "      <th>0</th>\n",
       "      <td>892</td>\n",
       "      <td>0</td>\n",
       "    </tr>\n",
       "    <tr>\n",
       "      <th>1</th>\n",
       "      <td>893</td>\n",
       "      <td>1</td>\n",
       "    </tr>\n",
       "    <tr>\n",
       "      <th>2</th>\n",
       "      <td>894</td>\n",
       "      <td>0</td>\n",
       "    </tr>\n",
       "    <tr>\n",
       "      <th>3</th>\n",
       "      <td>895</td>\n",
       "      <td>0</td>\n",
       "    </tr>\n",
       "    <tr>\n",
       "      <th>4</th>\n",
       "      <td>896</td>\n",
       "      <td>1</td>\n",
       "    </tr>\n",
       "    <tr>\n",
       "      <th>...</th>\n",
       "      <td>...</td>\n",
       "      <td>...</td>\n",
       "    </tr>\n",
       "    <tr>\n",
       "      <th>413</th>\n",
       "      <td>1305</td>\n",
       "      <td>0</td>\n",
       "    </tr>\n",
       "    <tr>\n",
       "      <th>414</th>\n",
       "      <td>1306</td>\n",
       "      <td>1</td>\n",
       "    </tr>\n",
       "    <tr>\n",
       "      <th>415</th>\n",
       "      <td>1307</td>\n",
       "      <td>0</td>\n",
       "    </tr>\n",
       "    <tr>\n",
       "      <th>416</th>\n",
       "      <td>1308</td>\n",
       "      <td>0</td>\n",
       "    </tr>\n",
       "    <tr>\n",
       "      <th>417</th>\n",
       "      <td>1309</td>\n",
       "      <td>1</td>\n",
       "    </tr>\n",
       "  </tbody>\n",
       "</table>\n",
       "<p>418 rows × 2 columns</p>\n",
       "</div>"
      ],
      "text/plain": [
       "     PassengerId  Survived\n",
       "0            892         0\n",
       "1            893         1\n",
       "2            894         0\n",
       "3            895         0\n",
       "4            896         1\n",
       "..           ...       ...\n",
       "413         1305         0\n",
       "414         1306         1\n",
       "415         1307         0\n",
       "416         1308         0\n",
       "417         1309         1\n",
       "\n",
       "[418 rows x 2 columns]"
      ]
     },
     "execution_count": 127,
     "metadata": {},
     "output_type": "execute_result"
    }
   ],
   "source": [
    "Final_result"
   ]
  },
  {
   "cell_type": "code",
   "execution_count": 128,
   "metadata": {},
   "outputs": [],
   "source": [
    "Final_result.to_csv(\"Submission.csv\",index=False)"
   ]
  }
 ],
 "metadata": {
  "kernelspec": {
   "display_name": "Python 3",
   "language": "python",
   "name": "python3"
  },
  "language_info": {
   "codemirror_mode": {
    "name": "ipython",
    "version": 3
   },
   "file_extension": ".py",
   "mimetype": "text/x-python",
   "name": "python",
   "nbconvert_exporter": "python",
   "pygments_lexer": "ipython3",
   "version": "3.8.3"
  }
 },
 "nbformat": 4,
 "nbformat_minor": 4
}
